{
 "cells": [
  {
   "cell_type": "code",
   "execution_count": 140,
   "metadata": {
    "collapsed": true
   },
   "outputs": [],
   "source": [
    "from lxml import etree\n",
    "import lxml.html as LH\n",
    "from html.parser import HTMLParser\n",
    "import numpy as np\n",
    "import pandas as pd\n",
    "from io import StringIO\n",
    "import urllib3"
   ]
  },
  {
   "cell_type": "code",
   "execution_count": 60,
   "metadata": {
    "collapsed": true
   },
   "outputs": [],
   "source": [
    "# Each results page is for a season and indexed by its end year.\n",
    "# Choose a year to start then loop back from there until we run out\n",
    "start_from = 2018"
   ]
  },
  {
   "cell_type": "code",
   "execution_count": 61,
   "metadata": {},
   "outputs": [],
   "source": [
    "# Teams to gather data for\n",
    "teams = ['liverpool-fc']"
   ]
  },
  {
   "cell_type": "code",
   "execution_count": 62,
   "metadata": {},
   "outputs": [],
   "source": [
    "# Connection settings\n",
    "# http = urllib3.PoolManager()\n",
    "default_headers = urllib3.make_headers(proxy_basic_auth='shephej:Kjowwnim35')\n",
    "http = urllib3.ProxyManager(\"https://10.132.100.135:8080/\", headers=default_headers) # 8080"
   ]
  },
  {
   "cell_type": "code",
   "execution_count": 63,
   "metadata": {},
   "outputs": [
    {
     "name": "stderr",
     "output_type": "stream",
     "text": [
      "C:\\Users\\shephej\\AppData\\Local\\Continuum\\anaconda3\\lib\\site-packages\\urllib3\\connectionpool.py:858: InsecureRequestWarning: Unverified HTTPS request is being made. Adding certificate verification is strongly advised. See: https://urllib3.readthedocs.io/en/latest/advanced-usage.html#ssl-warnings\n",
      "  InsecureRequestWarning)\n"
     ]
    }
   ],
   "source": [
    "season = start_from\n",
    "for team in teams:\n",
    "\n",
    "    # Page to read\n",
    "    target_page = 'https://www.worldfootball.net/teams/{}/{}/3/'.format(team, season)\n",
    "\n",
    "    # Read page and save as HTML\n",
    "    r = http.request('GET', target_page)\n",
    "    page = r.data.decode('utf-8')\n",
    "\n",
    "    # Parse the HTML string\n",
    "    parser = etree.HTMLParser()\n",
    "    tree = etree.parse(StringIO(page), parser)\n",
    "    root = tree.getroot()"
   ]
  },
  {
   "cell_type": "code",
   "execution_count": 42,
   "metadata": {},
   "outputs": [],
   "source": [
    "<a href=\"/report/premier-league-1989-1990-liverpool-fc-manchester-city/\" title=\"Match details Liverpool FC - Manchester City\">3:1 (1:1) </a>"
   ]
  },
  {
   "cell_type": "code",
   "execution_count": 106,
   "metadata": {},
   "outputs": [],
   "source": [
    "page_text = root.xpath('//a//text()')\n",
    "pl_gameweek, opposition, result, date, competition = [], [], [], [], []\n",
    "for i in range(len(page_text)):\n",
    "    \n",
    "    # Get text element\n",
    "    text = str(page_text[i])\n",
    "    \n",
    "    # If we've reached the premier league data, get into it\n",
    "    if 'Premier League {}/{}'.format(start_from-1, start_from) in text:\n",
    "        \n",
    "        # Increment through the data after finding Prem marker\n",
    "        for j in range(i + 1, len(page_text), 4):  \n",
    "            prem_text = str(page_text[j])\n",
    "            \n",
    "            # First entry of any match should be its round number\n",
    "            if ' Round' in prem_text:\n",
    "                pl_gameweek.append(int(prem_text[:2].replace('.', '')))\n",
    "                \n",
    "                # If the round number has decreased since last time, that's the end of the Prem\n",
    "                if len(pl_gameweek) > 1:\n",
    "                    if pl_gameweek[-1] < pl_gameweek[-2]:\n",
    "                        break\n",
    "                    \n",
    "                # Second entry should be the date\n",
    "                date.append(str(page_text[j + 1]))\n",
    "\n",
    "                # Third should be the opposition\n",
    "                opposition.append(str(page_text[j + 2]))\n",
    "\n",
    "                # Fourth should be the score\n",
    "                result.append(str(page_text[j + 3]))\n",
    "                \n",
    "                # Record competition\n",
    "                competition.append('Premier League')\n",
    "                \n"
   ]
  },
  {
   "cell_type": "code",
   "execution_count": 116,
   "metadata": {},
   "outputs": [
    {
     "data": {
      "text/html": [
       "<div>\n",
       "<style scoped>\n",
       "    .dataframe tbody tr th:only-of-type {\n",
       "        vertical-align: middle;\n",
       "    }\n",
       "\n",
       "    .dataframe tbody tr th {\n",
       "        vertical-align: top;\n",
       "    }\n",
       "\n",
       "    .dataframe thead th {\n",
       "        text-align: right;\n",
       "    }\n",
       "</style>\n",
       "<table border=\"1\" class=\"dataframe\">\n",
       "  <thead>\n",
       "    <tr style=\"text-align: right;\">\n",
       "      <th></th>\n",
       "      <th>competition</th>\n",
       "      <th>date</th>\n",
       "      <th>opposition</th>\n",
       "      <th>pl_gameweek</th>\n",
       "      <th>raw_result</th>\n",
       "      <th>team</th>\n",
       "      <th>team_goals</th>\n",
       "      <th>opposition_goals</th>\n",
       "    </tr>\n",
       "  </thead>\n",
       "  <tbody>\n",
       "    <tr>\n",
       "      <th>0</th>\n",
       "      <td>Premier League</td>\n",
       "      <td>2017-08-12</td>\n",
       "      <td>Watford FC</td>\n",
       "      <td>1</td>\n",
       "      <td>3:3 (1:2)</td>\n",
       "      <td>liverpool-fc</td>\n",
       "      <td>3</td>\n",
       "      <td>3</td>\n",
       "    </tr>\n",
       "    <tr>\n",
       "      <th>1</th>\n",
       "      <td>Premier League</td>\n",
       "      <td>2017-08-19</td>\n",
       "      <td>Crystal Palace</td>\n",
       "      <td>2</td>\n",
       "      <td>1:0 (0:0)</td>\n",
       "      <td>liverpool-fc</td>\n",
       "      <td>1</td>\n",
       "      <td>0</td>\n",
       "    </tr>\n",
       "    <tr>\n",
       "      <th>2</th>\n",
       "      <td>Premier League</td>\n",
       "      <td>2017-08-27</td>\n",
       "      <td>Arsenal FC</td>\n",
       "      <td>3</td>\n",
       "      <td>4:0 (2:0)</td>\n",
       "      <td>liverpool-fc</td>\n",
       "      <td>4</td>\n",
       "      <td>0</td>\n",
       "    </tr>\n",
       "    <tr>\n",
       "      <th>3</th>\n",
       "      <td>Premier League</td>\n",
       "      <td>2017-09-09</td>\n",
       "      <td>Manchester City</td>\n",
       "      <td>4</td>\n",
       "      <td>0:5 (0:2)</td>\n",
       "      <td>liverpool-fc</td>\n",
       "      <td>0</td>\n",
       "      <td>5</td>\n",
       "    </tr>\n",
       "    <tr>\n",
       "      <th>4</th>\n",
       "      <td>Premier League</td>\n",
       "      <td>2017-09-16</td>\n",
       "      <td>Burnley FC</td>\n",
       "      <td>5</td>\n",
       "      <td>1:1 (1:1)</td>\n",
       "      <td>liverpool-fc</td>\n",
       "      <td>1</td>\n",
       "      <td>1</td>\n",
       "    </tr>\n",
       "  </tbody>\n",
       "</table>\n",
       "</div>"
      ],
      "text/plain": [
       "      competition       date       opposition  pl_gameweek  raw_result  \\\n",
       "0  Premier League 2017-08-12       Watford FC            1  3:3 (1:2)    \n",
       "1  Premier League 2017-08-19   Crystal Palace            2  1:0 (0:0)    \n",
       "2  Premier League 2017-08-27       Arsenal FC            3  4:0 (2:0)    \n",
       "3  Premier League 2017-09-09  Manchester City            4  0:5 (0:2)    \n",
       "4  Premier League 2017-09-16       Burnley FC            5  1:1 (1:1)    \n",
       "\n",
       "           team team_goals opposition_goals  \n",
       "0  liverpool-fc          3                3  \n",
       "1  liverpool-fc          1                0  \n",
       "2  liverpool-fc          4                0  \n",
       "3  liverpool-fc          0                5  \n",
       "4  liverpool-fc          1                1  "
      ]
     },
     "execution_count": 116,
     "metadata": {},
     "output_type": "execute_result"
    }
   ],
   "source": [
    "fixture_df = pd.DataFrame({'competition': competition,\n",
    "                          'date': date,\n",
    "                          'pl_gameweek': pl_gameweek,\n",
    "                          'team': team,\n",
    "                          'opposition': opposition,\n",
    "                          'raw_result': result})\n",
    "fixture_df['date'] = pd.to_datetime(fixture_df['date'], format='%d/%m/%Y')\n",
    "fixture_df['team_goals'] = fixture_df['raw_result'].str[0]\n",
    "fixture_df['opposition_goals'] = fixture_df['raw_result'].str[2]\n",
    "fixture_df.head()"
   ]
  },
  {
   "cell_type": "code",
   "execution_count": 126,
   "metadata": {},
   "outputs": [],
   "source": [
    "tables = root.xpath('//table')"
   ]
  },
  {
   "cell_type": "code",
   "execution_count": 127,
   "metadata": {},
   "outputs": [],
   "source": [
    "table = tables[0]"
   ]
  },
  {
   "cell_type": "code",
   "execution_count": 131,
   "metadata": {},
   "outputs": [],
   "source": [
    "table.prefix"
   ]
  },
  {
   "cell_type": "code",
   "execution_count": 135,
   "metadata": {},
   "outputs": [],
   "source": [
    "def text(elt):\n",
    "    return elt.text_content().replace(u'\\xa0', u' ')"
   ]
  },
  {
   "cell_type": "code",
   "execution_count": 160,
   "metadata": {},
   "outputs": [
    {
     "name": "stdout",
     "output_type": "stream",
     "text": [
      "['Kalenderwoche', '01/08/2017', '19:30', 'A', '\\r\\n\\t\\t\\t\\t\\t\\t\\t\\t\\t\\t\\t\\t\\t\\t\\t\\t\\t\\r\\n\\t\\t\\t\\t\\t\\t\\t\\t\\t\\t\\t\\t\\t\\t\\t\\t', '\\r\\n\\t\\t\\t\\t\\t\\t\\t\\t\\t\\t\\t\\t\\t\\t\\t\\t\\tBayern München\\r\\n\\t\\t\\t\\t\\t\\t\\t\\t\\t\\t\\t\\t\\t\\t\\t\\t', '\\r\\n\\t\\t\\t\\t\\t\\t\\t\\t\\t\\t\\t\\t\\t\\t\\t\\t\\t\\t\\t3:0 (2:0) \\r\\n\\t\\t\\t\\t\\t\\t\\t\\t\\t\\t\\t\\t\\t\\t\\t\\t\\t', '\\r\\n\\t\\t\\t\\t\\t\\t\\t\\t\\t\\t\\t\\t\\t\\t\\t\\t\\t']\n",
      "['Kalenderwoche', '01/08/2017', '19:30', 'A', '\\r\\n\\t\\t\\t\\t\\t\\t\\t\\t\\t\\t\\t\\t\\t\\t\\t\\t\\t\\r\\n\\t\\t\\t\\t\\t\\t\\t\\t\\t\\t\\t\\t\\t\\t\\t\\t', '\\r\\n\\t\\t\\t\\t\\t\\t\\t\\t\\t\\t\\t\\t\\t\\t\\t\\t\\tBayern München\\r\\n\\t\\t\\t\\t\\t\\t\\t\\t\\t\\t\\t\\t\\t\\t\\t\\t', '\\r\\n\\t\\t\\t\\t\\t\\t\\t\\t\\t\\t\\t\\t\\t\\t\\t\\t\\t\\t\\t3:0 (2:0) \\r\\n\\t\\t\\t\\t\\t\\t\\t\\t\\t\\t\\t\\t\\t\\t\\t\\t\\t', '\\r\\n\\t\\t\\t\\t\\t\\t\\t\\t\\t\\t\\t\\t\\t\\t\\t\\t\\t']\n",
      "['Kalenderwoche', '01/08/2017', '19:30', 'A', '\\r\\n\\t\\t\\t\\t\\t\\t\\t\\t\\t\\t\\t\\t\\t\\t\\t\\t\\t\\r\\n\\t\\t\\t\\t\\t\\t\\t\\t\\t\\t\\t\\t\\t\\t\\t\\t', '\\r\\n\\t\\t\\t\\t\\t\\t\\t\\t\\t\\t\\t\\t\\t\\t\\t\\t\\tBayern München\\r\\n\\t\\t\\t\\t\\t\\t\\t\\t\\t\\t\\t\\t\\t\\t\\t\\t', '\\r\\n\\t\\t\\t\\t\\t\\t\\t\\t\\t\\t\\t\\t\\t\\t\\t\\t\\t\\t\\t3:0 (2:0) \\r\\n\\t\\t\\t\\t\\t\\t\\t\\t\\t\\t\\t\\t\\t\\t\\t\\t\\t', '\\r\\n\\t\\t\\t\\t\\t\\t\\t\\t\\t\\t\\t\\t\\t\\t\\t\\t\\t']\n",
      "['Kalenderwoche', '01/08/2017', '19:30', 'A', '\\r\\n\\t\\t\\t\\t\\t\\t\\t\\t\\t\\t\\t\\t\\t\\t\\t\\t\\t\\r\\n\\t\\t\\t\\t\\t\\t\\t\\t\\t\\t\\t\\t\\t\\t\\t\\t', '\\r\\n\\t\\t\\t\\t\\t\\t\\t\\t\\t\\t\\t\\t\\t\\t\\t\\t\\tBayern München\\r\\n\\t\\t\\t\\t\\t\\t\\t\\t\\t\\t\\t\\t\\t\\t\\t\\t', '\\r\\n\\t\\t\\t\\t\\t\\t\\t\\t\\t\\t\\t\\t\\t\\t\\t\\t\\t\\t\\t3:0 (2:0) \\r\\n\\t\\t\\t\\t\\t\\t\\t\\t\\t\\t\\t\\t\\t\\t\\t\\t\\t', '\\r\\n\\t\\t\\t\\t\\t\\t\\t\\t\\t\\t\\t\\t\\t\\t\\t\\t\\t']\n",
      "['Kalenderwoche', '01/08/2017', '19:30', 'A', '\\r\\n\\t\\t\\t\\t\\t\\t\\t\\t\\t\\t\\t\\t\\t\\t\\t\\t\\t\\r\\n\\t\\t\\t\\t\\t\\t\\t\\t\\t\\t\\t\\t\\t\\t\\t\\t', '\\r\\n\\t\\t\\t\\t\\t\\t\\t\\t\\t\\t\\t\\t\\t\\t\\t\\t\\tBayern München\\r\\n\\t\\t\\t\\t\\t\\t\\t\\t\\t\\t\\t\\t\\t\\t\\t\\t', '\\r\\n\\t\\t\\t\\t\\t\\t\\t\\t\\t\\t\\t\\t\\t\\t\\t\\t\\t\\t\\t3:0 (2:0) \\r\\n\\t\\t\\t\\t\\t\\t\\t\\t\\t\\t\\t\\t\\t\\t\\t\\t\\t', '\\r\\n\\t\\t\\t\\t\\t\\t\\t\\t\\t\\t\\t\\t\\t\\t\\t\\t\\t']\n"
     ]
    }
   ],
   "source": [
    "root = LH.fromstring(page)\n",
    "for table in root.xpath('//table'):\n",
    "    header = [text(th) for th in table.xpath('//th')]        # 1\n",
    "    header = header[:7]\n",
    "    data = [[text(td) for td in tr.xpath('td')]  \n",
    "            for tr in table.xpath('//tr')]                   # 2\n",
    "    #data = [row for row in data if len(row)==len(header)]    # 3 \n",
    "    #data = pd.DataFrame(data, columns=header)                # 4\n",
    "    print(data[7])"
   ]
  },
  {
   "cell_type": "code",
   "execution_count": 165,
   "metadata": {},
   "outputs": [
    {
     "ename": "TypeError",
     "evalue": "list indices must be integers or slices, not tuple",
     "output_type": "error",
     "traceback": [
      "\u001b[1;31m---------------------------------------------------------------------------\u001b[0m",
      "\u001b[1;31mTypeError\u001b[0m                                 Traceback (most recent call last)",
      "\u001b[1;32m<ipython-input-165-fbf140d3a21e>\u001b[0m in \u001b[0;36m<module>\u001b[1;34m()\u001b[0m\n\u001b[1;32m----> 1\u001b[1;33m \u001b[0mlen\u001b[0m\u001b[1;33m(\u001b[0m\u001b[0mdata\u001b[0m\u001b[1;33m[\u001b[0m\u001b[1;36m1\u001b[0m\u001b[1;33m,\u001b[0m \u001b[1;36m2\u001b[0m\u001b[1;33m]\u001b[0m\u001b[1;33m)\u001b[0m\u001b[1;33m\u001b[0m\u001b[0m\n\u001b[0m",
      "\u001b[1;31mTypeError\u001b[0m: list indices must be integers or slices, not tuple"
     ]
    }
   ],
   "source": []
  },
  {
   "cell_type": "code",
   "execution_count": 164,
   "metadata": {},
   "outputs": [
    {
     "data": {
      "text/plain": [
       "['Round', 'date', 'place', '', 'Opponent', 'Results', '']"
      ]
     },
     "execution_count": 164,
     "metadata": {},
     "output_type": "execute_result"
    }
   ],
   "source": [
    "header[:7]"
   ]
  },
  {
   "cell_type": "code",
   "execution_count": 3,
   "metadata": {},
   "outputs": [
    {
     "name": "stdout",
     "output_type": "stream",
     "text": [
      "0\n",
      "1\n",
      "2\n",
      "3\n",
      "4\n",
      "5\n",
      "6\n",
      "7\n",
      "8\n",
      "9\n",
      "10\n",
      "11\n",
      "12\n",
      "13\n",
      "14\n",
      "15\n",
      "16\n",
      "17\n",
      "18\n",
      "19\n",
      "20\n",
      "21\n",
      "22\n",
      "23\n",
      "24\n",
      "25\n",
      "26\n"
     ]
    }
   ],
   "source": [
    "# Loop through website reads and create a dataframe\n",
    "for zz in range(len(page_indeces) - 1):\n",
    "    \n",
    "    # Print year\n",
    "    print(zz)\n",
    "    \n",
    "    # Page to read\n",
    "    target_page = 'http://www.lfchistory.net/SeasonArchive/Games/{}'.format(str(page_indeces[zz]))\n",
    "    \n",
    "    # Read page and save as HTML\n",
    "    http = urllib3.PoolManager()\n",
    "    r = http.request('GET', target_page)\n",
    "    page = r.data.decode('utf-8')\n",
    "    \n",
    "    # Parse the HTML string\n",
    "    parser = etree.HTMLParser()\n",
    "    tree = etree.parse(StringIO(page), parser)\n",
    "    root = tree.getroot()\n",
    "    \n",
    "    # Identify data objects I'm interested in\n",
    "    tds = root.xpath(\"//td/text()\")\n",
    "    scores = root.xpath(\"//a/text()\")\n",
    "    scores = scores[1:]\n",
    "    \n",
    "    # Initialise lists to fill\n",
    "    i = 0\n",
    "    index = []\n",
    "    date = []\n",
    "    opposition = []\n",
    "    venue = []\n",
    "    competition = []\n",
    "\n",
    "    # Loop through html data and organise it\n",
    "    while i < len(tds):\n",
    "\n",
    "        # Stop when the index resets and brings in friendlies\n",
    "        if int(tds[i]) < i / 5:\n",
    "            break\n",
    "\n",
    "        index.append(tds[i])\n",
    "        date.append(tds[i+1])\n",
    "        opposition.append(tds[i+2])\n",
    "        venue.append(tds[i+3])\n",
    "        competition.append(tds[i+4])\n",
    "\n",
    "        i += 5\n",
    "        \n",
    "    # Extract the scores\n",
    "    home_score = []\n",
    "    away_score = []\n",
    "    position = 0\n",
    "\n",
    "    for score in scores:\n",
    "        home_score.append(score[0])\n",
    "        away_score.append(score[4])\n",
    "\n",
    "        # If its not a number then the scores have finished\n",
    "        try:\n",
    "            x = int(score[0])\n",
    "        except ValueError:\n",
    "            break\n",
    "\n",
    "        position += 1\n",
    "        if position >= len(index):\n",
    "            break\n",
    "            \n",
    "    # Create a dataframe of the results\n",
    "    fixture_history = pd.DataFrame({\n",
    "        'nth_game_this_season': index,\n",
    "        'date': date,\n",
    "        'opposition': opposition,\n",
    "        'venue': venue,\n",
    "        'competition': competition,\n",
    "        'home_score': home_score,\n",
    "        'away_score': away_score\n",
    "    })\n",
    "    \n",
    "    # Combine results\n",
    "    if zz == 0:\n",
    "        final_df = pd.DataFrame({\n",
    "            'nth_game_this_season': [],\n",
    "            'date': [],\n",
    "            'opposition': [],\n",
    "            'venue': [],\n",
    "            'competition': [],\n",
    "            'home_score': [],\n",
    "            'away_score': []\n",
    "        })\n",
    "    else:\n",
    "        final_df = pd.concat([final_df, fixture_history])"
   ]
  },
  {
   "cell_type": "code",
   "execution_count": 4,
   "metadata": {
    "collapsed": true
   },
   "outputs": [],
   "source": [
    "final_df['date'] = pd.to_datetime(final_df['date'], format='%d.%m.%Y')"
   ]
  },
  {
   "cell_type": "code",
   "execution_count": 5,
   "metadata": {
    "collapsed": true
   },
   "outputs": [],
   "source": [
    "final_df['away_score'] = final_df['away_score'].astype(np.int32)\n",
    "final_df['home_score'] = final_df['home_score'].astype(np.int32)"
   ]
  },
  {
   "cell_type": "code",
   "execution_count": 6,
   "metadata": {
    "collapsed": true
   },
   "outputs": [],
   "source": [
    "import os\n",
    "out_path = os.path.join(os.pardir, 'data', 'training_data', 'liverpool_fixture_history.csv')\n",
    "final_df.to_csv(out_path, index=False, encoding='utf-8')"
   ]
  }
 ],
 "metadata": {
  "kernelspec": {
   "display_name": "Python 3",
   "language": "python",
   "name": "python3"
  },
  "language_info": {
   "codemirror_mode": {
    "name": "ipython",
    "version": 3
   },
   "file_extension": ".py",
   "mimetype": "text/x-python",
   "name": "python",
   "nbconvert_exporter": "python",
   "pygments_lexer": "ipython3",
   "version": "3.6.3"
  }
 },
 "nbformat": 4,
 "nbformat_minor": 2
}
