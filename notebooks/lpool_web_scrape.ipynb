{
 "cells": [
  {
   "cell_type": "code",
   "execution_count": 1,
   "metadata": {
    "collapsed": true
   },
   "outputs": [],
   "source": [
    "from lxml import etree\n",
    "import numpy as np\n",
    "import pandas as pd\n",
    "from io import StringIO\n",
    "import urllib3"
   ]
  },
  {
   "cell_type": "code",
   "execution_count": 2,
   "metadata": {
    "collapsed": true
   },
   "outputs": [],
   "source": [
    "# Unfortunately the website integers are in a strange order\n",
    "first_set = np.arange(33,46)\n",
    "second_set = np.array([127, 126, 125, 124, 123, 122, 121, 120, 119, 118, \n",
    "                       117, 116, 115, 104, 46])\n",
    "page_indeces = np.concatenate([first_set, second_set])"
   ]
  },
  {
   "cell_type": "code",
   "execution_count": 3,
   "metadata": {},
   "outputs": [
    {
     "name": "stdout",
     "output_type": "stream",
     "text": [
      "0\n",
      "1\n",
      "2\n",
      "3\n",
      "4\n",
      "5\n",
      "6\n",
      "7\n",
      "8\n",
      "9\n",
      "10\n",
      "11\n",
      "12\n",
      "13\n",
      "14\n",
      "15\n",
      "16\n",
      "17\n",
      "18\n",
      "19\n",
      "20\n",
      "21\n",
      "22\n",
      "23\n",
      "24\n",
      "25\n",
      "26\n"
     ]
    }
   ],
   "source": [
    "# Loop through website reads and create a dataframe\n",
    "for zz in range(len(page_indeces) - 1):\n",
    "    \n",
    "    # Print year\n",
    "    print(zz)\n",
    "    \n",
    "    # Page to read\n",
    "    target_page = 'http://www.lfchistory.net/SeasonArchive/Games/{}'.format(str(page_indeces[zz]))\n",
    "    \n",
    "    # Read page and save as HTML\n",
    "    http = urllib3.PoolManager()\n",
    "    r = http.request('GET', target_page)\n",
    "    page = r.data.decode('utf-8')\n",
    "    \n",
    "    # Parse the HTML string\n",
    "    parser = etree.HTMLParser()\n",
    "    tree = etree.parse(StringIO(page), parser)\n",
    "    root = tree.getroot()\n",
    "    \n",
    "    # Identify data objects I'm interested in\n",
    "    tds = root.xpath(\"//td/text()\")\n",
    "    scores = root.xpath(\"//a/text()\")\n",
    "    scores = scores[1:]\n",
    "    \n",
    "    # Initialise lists to fill\n",
    "    i = 0\n",
    "    index = []\n",
    "    date = []\n",
    "    opposition = []\n",
    "    venue = []\n",
    "    competition = []\n",
    "\n",
    "    # Loop through html data and organise it\n",
    "    while i < len(tds):\n",
    "\n",
    "        # Stop when the index resets and brings in friendlies\n",
    "        if int(tds[i]) < i / 5:\n",
    "            break\n",
    "\n",
    "        index.append(tds[i])\n",
    "        date.append(tds[i+1])\n",
    "        opposition.append(tds[i+2])\n",
    "        venue.append(tds[i+3])\n",
    "        competition.append(tds[i+4])\n",
    "\n",
    "        i += 5\n",
    "        \n",
    "    # Extract the scores\n",
    "    home_score = []\n",
    "    away_score = []\n",
    "    position = 0\n",
    "\n",
    "    for score in scores:\n",
    "        home_score.append(score[0])\n",
    "        away_score.append(score[4])\n",
    "\n",
    "        # If its not a number then the scores have finished\n",
    "        try:\n",
    "            x = int(score[0])\n",
    "        except ValueError:\n",
    "            break\n",
    "\n",
    "        position += 1\n",
    "        if position >= len(index):\n",
    "            break\n",
    "            \n",
    "    # Create a dataframe of the results\n",
    "    fixture_history = pd.DataFrame({\n",
    "        'nth_game_this_season': index,\n",
    "        'date': date,\n",
    "        'opposition': opposition,\n",
    "        'venue': venue,\n",
    "        'competition': competition,\n",
    "        'home_score': home_score,\n",
    "        'away_score': away_score\n",
    "    })\n",
    "    \n",
    "    # Combine results\n",
    "    if zz == 0:\n",
    "        final_df = pd.DataFrame({\n",
    "            'nth_game_this_season': [],\n",
    "            'date': [],\n",
    "            'opposition': [],\n",
    "            'venue': [],\n",
    "            'competition': [],\n",
    "            'home_score': [],\n",
    "            'away_score': []\n",
    "        })\n",
    "    else:\n",
    "        final_df = pd.concat([final_df, fixture_history])"
   ]
  },
  {
   "cell_type": "code",
   "execution_count": 4,
   "metadata": {
    "collapsed": true
   },
   "outputs": [],
   "source": [
    "final_df['date'] = pd.to_datetime(final_df['date'], format='%d.%m.%Y')"
   ]
  },
  {
   "cell_type": "code",
   "execution_count": 5,
   "metadata": {
    "collapsed": true
   },
   "outputs": [],
   "source": [
    "final_df['away_score'] = final_df['away_score'].astype(np.int32)\n",
    "final_df['home_score'] = final_df['home_score'].astype(np.int32)"
   ]
  },
  {
   "cell_type": "code",
   "execution_count": 6,
   "metadata": {
    "collapsed": true
   },
   "outputs": [],
   "source": [
    "import os\n",
    "out_path = os.path.join(os.pardir, 'data', 'training_data', 'liverpool_fixture_history.csv')\n",
    "final_df.to_csv(out_path, index=False, encoding='utf-8')"
   ]
  }
 ],
 "metadata": {
  "kernelspec": {
   "display_name": "Python 3",
   "language": "python",
   "name": "python3"
  },
  "language_info": {
   "codemirror_mode": {
    "name": "ipython",
    "version": 3
   },
   "file_extension": ".py",
   "mimetype": "text/x-python",
   "name": "python",
   "nbconvert_exporter": "python",
   "pygments_lexer": "ipython3",
   "version": "3.6.2"
  }
 },
 "nbformat": 4,
 "nbformat_minor": 2
}
