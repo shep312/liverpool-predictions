{
 "cells": [
  {
   "cell_type": "code",
   "execution_count": 43,
   "metadata": {
    "collapsed": true
   },
   "outputs": [],
   "source": [
    "import pandas as pd\n",
    "import numpy as np\n",
    "import os\n",
    "import matplotlib.pyplot as plt\n",
    "import seaborn as sns\n",
    "from sklearn.preprocessing import MinMaxScaler\n",
    "%matplotlib inline"
   ]
  },
  {
   "cell_type": "markdown",
   "metadata": {},
   "source": [
    "# Modelling LFC results\n",
    "\n",
    "Attempt to build a model to predict the result of a liverpool game\n",
    "\n",
    "### Load fixture history data\n",
    "\n",
    "Currently only interested in the Premier League, so limit the data to that for now"
   ]
  },
  {
   "cell_type": "code",
   "execution_count": 44,
   "metadata": {},
   "outputs": [
    {
     "data": {
      "text/html": [
       "<div>\n",
       "<style>\n",
       "    .dataframe thead tr:only-child th {\n",
       "        text-align: right;\n",
       "    }\n",
       "\n",
       "    .dataframe thead th {\n",
       "        text-align: left;\n",
       "    }\n",
       "\n",
       "    .dataframe tbody tr th {\n",
       "        vertical-align: top;\n",
       "    }\n",
       "</style>\n",
       "<table border=\"1\" class=\"dataframe\">\n",
       "  <thead>\n",
       "    <tr style=\"text-align: right;\">\n",
       "      <th></th>\n",
       "      <th>away_score</th>\n",
       "      <th>competition</th>\n",
       "      <th>date</th>\n",
       "      <th>home_score</th>\n",
       "      <th>nth_game_this_season</th>\n",
       "      <th>opposition</th>\n",
       "      <th>venue</th>\n",
       "    </tr>\n",
       "  </thead>\n",
       "  <tbody>\n",
       "    <tr>\n",
       "      <th>64</th>\n",
       "      <td>0</td>\n",
       "      <td>Premier League</td>\n",
       "      <td>14/08/1993</td>\n",
       "      <td>2</td>\n",
       "      <td>1</td>\n",
       "      <td>Sheffield Wednesday</td>\n",
       "      <td>Anfield</td>\n",
       "    </tr>\n",
       "    <tr>\n",
       "      <th>65</th>\n",
       "      <td>1</td>\n",
       "      <td>Premier League</td>\n",
       "      <td>18/08/1993</td>\n",
       "      <td>3</td>\n",
       "      <td>2</td>\n",
       "      <td>Queens Park Rangers</td>\n",
       "      <td>Loftus Road</td>\n",
       "    </tr>\n",
       "    <tr>\n",
       "      <th>66</th>\n",
       "      <td>0</td>\n",
       "      <td>Premier League</td>\n",
       "      <td>22/08/1993</td>\n",
       "      <td>5</td>\n",
       "      <td>3</td>\n",
       "      <td>Swindon Town</td>\n",
       "      <td>County Ground</td>\n",
       "    </tr>\n",
       "    <tr>\n",
       "      <th>67</th>\n",
       "      <td>2</td>\n",
       "      <td>Premier League</td>\n",
       "      <td>25/08/1993</td>\n",
       "      <td>1</td>\n",
       "      <td>4</td>\n",
       "      <td>Tottenham Hotspur</td>\n",
       "      <td>Anfield</td>\n",
       "    </tr>\n",
       "    <tr>\n",
       "      <th>68</th>\n",
       "      <td>0</td>\n",
       "      <td>Premier League</td>\n",
       "      <td>28/08/1993</td>\n",
       "      <td>2</td>\n",
       "      <td>5</td>\n",
       "      <td>Leeds United</td>\n",
       "      <td>Anfield</td>\n",
       "    </tr>\n",
       "  </tbody>\n",
       "</table>\n",
       "</div>"
      ],
      "text/plain": [
       "    away_score     competition        date  home_score  nth_game_this_season  \\\n",
       "64           0  Premier League  14/08/1993           2                     1   \n",
       "65           1  Premier League  18/08/1993           3                     2   \n",
       "66           0  Premier League  22/08/1993           5                     3   \n",
       "67           2  Premier League  25/08/1993           1                     4   \n",
       "68           0  Premier League  28/08/1993           2                     5   \n",
       "\n",
       "             opposition          venue  \n",
       "64  Sheffield Wednesday        Anfield  \n",
       "65  Queens Park Rangers    Loftus Road  \n",
       "66         Swindon Town  County Ground  \n",
       "67    Tottenham Hotspur        Anfield  \n",
       "68         Leeds United        Anfield  "
      ]
     },
     "execution_count": 44,
     "metadata": {},
     "output_type": "execute_result"
    }
   ],
   "source": [
    "file_path = os.path.join(os.path.pardir, 'data', 'liverpool_fixture_history.csv')\n",
    "df = pd.read_csv(file_path)\n",
    "df = df[df['competition'] == 'Premier League']\n",
    "df.head(5)"
   ]
  },
  {
   "cell_type": "markdown",
   "metadata": {},
   "source": [
    "### Create some booleans on the results and locations"
   ]
  },
  {
   "cell_type": "code",
   "execution_count": 45,
   "metadata": {},
   "outputs": [],
   "source": [
    "# Location. Extract whether it was a home game or not then lose the venue as its unlikely we can learn anything\n",
    "# that we can't get from home/away and the opposition\n",
    "df['liverpool_at_home'] = df['venue'] == 'Anfield'\n",
    "df.drop('venue', axis=1, inplace=True)\n",
    "\n",
    "df['result'] = 0\n",
    "\n",
    "# Win\n",
    "df.loc[(df['liverpool_at_home'] & (df['home_score'] > df['away_score'])) | \\\n",
    "       (~df['liverpool_at_home'] & (df['home_score'] > df['away_score'])), 'result'] = 1\n",
    "\n",
    "# Draw\n",
    "df.loc[df['home_score'] == df['away_score'], 'result'] = 0\n",
    "\n",
    "# Loss\n",
    "df.loc[(~df['liverpool_at_home'] & (df['home_score'] < df['away_score'])) | \\\n",
    "       (df['liverpool_at_home'] & (df['home_score'] < df['away_score'])), 'result'] = 2\n",
    "\n",
    "# Win / Not win binary flag\n",
    "df['win_flag'] = df['result'] == 1\n",
    "df['loss_flag'] = df['result'] == 2\n",
    "\n",
    "# Convert the date to datetime off the bat\n",
    "df['date'] = pd.to_datetime(df['date'], format='%d/%m/%Y')  # Convert to a datetime"
   ]
  },
  {
   "cell_type": "code",
   "execution_count": 46,
   "metadata": {},
   "outputs": [
    {
     "name": "stdout",
     "output_type": "stream",
     "text": [
      "Liverpool's overall win rate: \t 50.55%\n",
      "Liverpool's overall draw rate: \t 25.28%\n",
      "Liverpool's overall loss rate: \t 24.17%\n"
     ]
    }
   ],
   "source": [
    "print('Liverpool\\'s overall win rate: \\t {:.2f}%'.format(100*np.mean(df['result'] == 1)))\n",
    "print('Liverpool\\'s overall draw rate: \\t {:.2f}%'.format(100*np.mean(df['result'] == 0)))\n",
    "print('Liverpool\\'s overall loss rate: \\t {:.2f}%'.format(100*np.mean(df['result'] == 2)))"
   ]
  },
  {
   "cell_type": "markdown",
   "metadata": {},
   "source": [
    "## Feature extraction\n",
    "\n",
    "Dataset is fairly simple at the moment but contains more than it seems. Lets pull out some hopefully useful info.\n",
    "\n",
    "### Performance vs particular opponents\n",
    "\n",
    "Firstly, build some metrics to quantify how well Liverpool usually play against each opposition. This fairly dependent on time, so lets only look at the last 5 years."
   ]
  },
  {
   "cell_type": "code",
   "execution_count": 47,
   "metadata": {
    "collapsed": true
   },
   "outputs": [],
   "source": [
    "# Trim data to the last 5 years\n",
    "years_to_consider = 5\n",
    "time_cutoff = pd.to_datetime('today') - pd.Timedelta(weeks=52*years_to_consider)\n",
    "temp_df = df[df['date'] > time_cutoff]"
   ]
  },
  {
   "cell_type": "code",
   "execution_count": 48,
   "metadata": {
    "collapsed": true
   },
   "outputs": [],
   "source": [
    "# Loop through each team and calculate general performance\n",
    "unique_opponents = temp_df['opposition'].unique()\n",
    "win_proportion = []\n",
    "loss_proportion = []\n",
    "times_played = []\n",
    "\n",
    "for team in unique_opponents:\n",
    "    win_proportion.append(temp_df.loc[temp_df['opposition'] == team, 'win_flag'].mean())\n",
    "    loss_proportion.append(temp_df.loc[temp_df['opposition'] == team, 'loss_flag'].mean())\n",
    "    times_played.append(sum(temp_df['opposition'] == team))\n",
    "    \n",
    "opposition_performance = pd.DataFrame({'opposition': unique_opponents,\n",
    "                                       'win_proportion': win_proportion,\n",
    "                                       'loss_proportion': loss_proportion,\n",
    "                                       'times_played': times_played})\n",
    "opposition_performance['performance_metric'] = opposition_performance['win_proportion'] - \\\n",
    "                                               opposition_performance['loss_proportion']\n",
    "    \n",
    "# Merge results back into original df\n",
    "df = df.merge(opposition_performance, left_on='opposition', right_on='opposition', how='left')\n",
    "\n",
    "# Drop columns used in metric calculation. Not crucial but want to keep in streamlined\n",
    "df.drop(['times_played', 'win_proportion', 'loss_proportion'], axis=1, inplace=True)\n",
    "del temp_df"
   ]
  },
  {
   "cell_type": "markdown",
   "metadata": {},
   "source": [
    "Then for any team played over a couple times, who's the best and worst?"
   ]
  },
  {
   "cell_type": "code",
   "execution_count": 49,
   "metadata": {},
   "outputs": [
    {
     "data": {
      "image/png": "[encoded data removed]",
      "text/plain": [
       "<matplotlib.figure.Figure at 0x2509f081080>"
      ]
     },
     "metadata": {},
     "output_type": "display_data"
    }
   ],
   "source": [
    "regulars = opposition_performance[['opposition', 'performance_metric']] \\\n",
    "           .where(opposition_performance['times_played'] >= 2).dropna()\n",
    "regulars.sort_values(by='performance_metric' ,inplace=True)\n",
    "\n",
    "fig, ax = plt.subplots(nrows=1, ncols=1, figsize=[15,4])\n",
    "sns.barplot(ax=ax, data=regulars, x='opposition', y='performance_metric')\n",
    "for item in ax.get_xticklabels():\n",
    "    item.set_rotation(90)"
   ]
  },
  {
   "cell_type": "markdown",
   "metadata": {},
   "source": [
    "Suprisingly good against the Manchester teams...\n",
    "\n",
    "### Encode oppostition\n",
    "\n",
    "Any ML model we use won't want the opposition as a string"
   ]
  },
  {
   "cell_type": "code",
   "execution_count": 50,
   "metadata": {
    "collapsed": true
   },
   "outputs": [],
   "source": [
    "from sklearn.preprocessing import LabelEncoder\n",
    "\n",
    "# Opposition encoder\n",
    "opposition_encoder = LabelEncoder()\n",
    "df['opposition'] = opposition_encoder.fit_transform(df['opposition'])"
   ]
  },
  {
   "cell_type": "markdown",
   "metadata": {},
   "source": [
    "### Feature engineering\n",
    "\n",
    "#### Date related features\n",
    "What can we learn from the date of the match?"
   ]
  },
  {
   "cell_type": "code",
   "execution_count": 51,
   "metadata": {
    "collapsed": true
   },
   "outputs": [],
   "source": [
    "# Extract info from date\n",
    "df['day_of_week'] = df['date'].dt.weekday.astype(int)  # Record day of week\n",
    "\n",
    "# Order by date and get days since last game\n",
    "df.sort_values(by='date', ascending=False, inplace=True)\n",
    "df.reset_index(inplace=True, drop=True)\n",
    "\n",
    "for i in range(len(df) - 1):\n",
    "    df.loc[i, 'days_since_last_game'] = df.loc[i, 'date'] - df.loc[i + 1, 'date']\n",
    "df['days_since_last_game'].fillna(df['days_since_last_game'].median(), inplace=True)\n",
    "df['days_since_last_game'] = df['days_since_last_game'].dt.days.astype(int)\n",
    "\n",
    "# Cap days since last game to 10\n",
    "df.loc[df['days_since_last_game'] > 10, 'days_since_last_game'] = 10"
   ]
  },
  {
   "cell_type": "code",
   "execution_count": 52,
   "metadata": {
    "collapsed": true
   },
   "outputs": [],
   "source": [
    "# Convert date into a weighting for the training data\n",
    "df['date'] = pd.to_datetime('today') - df['date']  # Convert to difference from today\n",
    "df['date'] = df['date'].dt.days.astype(float)  # Convert to an integer\n",
    "\n",
    "scaler = MinMaxScaler(feature_range=(0,1))\n",
    "df['date'] = scaler.fit_transform(df['date'].values.reshape(-1, 1))\n",
    "\n",
    "# Invert so the older values get less weight\n",
    "df['date'] = 1 - df['date']"
   ]
  },
  {
   "cell_type": "markdown",
   "metadata": {},
   "source": [
    "#### Liverpool related features\n",
    "\n",
    "Loop through data set and generate win streaks etc."
   ]
  },
  {
   "cell_type": "code",
   "execution_count": 53,
   "metadata": {
    "collapsed": true
   },
   "outputs": [],
   "source": [
    "# Reset the index so we can loop down in time\n",
    "df.reset_index(drop=True, inplace=True)\n",
    "\n",
    "# Initialise a win streak feature\n",
    "df['win_streak'] = 0\n",
    "df['undefeated_streak'] = 0\n",
    "\n",
    "for i in range(len(df) - 1):\n",
    "    \n",
    "    # Initialise streak counters\n",
    "    win_streak = 0\n",
    "    undefeated_streak = 0\n",
    "    \n",
    "    # Was the most recent game a win?\n",
    "    won_last_game = bool(df.loc[i + 1, 'result'] == 1)\n",
    "                         \n",
    "    # Not a loss?\n",
    "    undefeated_last_game = bool((df.loc[i + 1, 'result'] == 1) | (df.loc[i + 1, 'result'] == 0))\n",
    "    \n",
    "    # Keep going back until we break the win streak\n",
    "    while won_last_game:\n",
    "        win_streak += 1\n",
    "        index = i + 1 + win_streak\n",
    "        if index < len(df):\n",
    "            won_last_game = bool(df.loc[index, 'result'] == 1)\n",
    "        else:\n",
    "            break\n",
    "    \n",
    "    # Keep going back until we break the undefeated streak\n",
    "    while undefeated_last_game:\n",
    "        undefeated_streak += 1\n",
    "        index_undef = i + 1 + undefeated_streak\n",
    "        if index_undef < len(df):\n",
    "            undefeated_last_game = bool((df.loc[index_undef, 'result'] == 1) | (df.loc[index_undef, 'result'] == 0))\n",
    "        else:\n",
    "            break\n",
    "        \n",
    "    # Save the result\n",
    "    df.loc[i, 'win_streak'] = win_streak\n",
    "    df.loc[i, 'undefeated_streak'] = undefeated_streak"
   ]
  },
  {
   "cell_type": "markdown",
   "metadata": {},
   "source": [
    "#### Opposition related features"
   ]
  },
  {
   "cell_type": "code",
   "execution_count": 54,
   "metadata": {
    "collapsed": true
   },
   "outputs": [],
   "source": [
    "# Add the number of times the two teams have played each other in this data set\n",
    "opposition_count_dict = dict(df['opposition'].value_counts())\n",
    "df['n_times_teams_played'] = df['opposition'].map(opposition_count_dict)"
   ]
  },
  {
   "cell_type": "markdown",
   "metadata": {},
   "source": [
    "### Drop data that we can't use in training"
   ]
  },
  {
   "cell_type": "code",
   "execution_count": 55,
   "metadata": {
    "collapsed": true
   },
   "outputs": [],
   "source": [
    "# Only interested in the Premier League for now\n",
    "df = df[df['competition'] == 'Premier League']\n",
    "df.drop('competition', axis=1, inplace=True)"
   ]
  },
  {
   "cell_type": "code",
   "execution_count": 56,
   "metadata": {
    "collapsed": true
   },
   "outputs": [],
   "source": [
    "# Scores can't be used in prediction\n",
    "df.drop(['away_score', 'home_score'], axis=1, inplace=True)"
   ]
  },
  {
   "cell_type": "markdown",
   "metadata": {},
   "source": [
    "### Visualise behaviour of final feature space"
   ]
  },
  {
   "cell_type": "code",
   "execution_count": 57,
   "metadata": {},
   "outputs": [
    {
     "data": {
      "image/png": "[encoded data removed]",
      "text/plain": [
       "<matplotlib.figure.Figure at 0x2509dfdc940>"
      ]
     },
     "metadata": {},
     "output_type": "display_data"
    }
   ],
   "source": [
    "# Calculate correlation matrix then extract the correlations with respect to the win flag\n",
    "corr_mat = df.corr()\n",
    "correlation_with_win = corr_mat['win_flag']\n",
    "correlation_with_win = correlation_with_win[~np.isin(correlation_with_win.index.values, \n",
    "                                                     ['win_flag', 'result', 'loss_flag'])]\n",
    "\n",
    "# Plot these correlations\n",
    "fig, ax = plt.subplots(nrows=1, ncols=2, figsize=[15,4])\n",
    "ax[0].bar(np.arange(len(correlation_with_win)), correlation_with_win)\n",
    "ax[0].set_xticks(np.arange(len(correlation_with_win)))\n",
    "ax[0].set_xticklabels(correlation_with_win.index.values, rotation=90)\n",
    "ax[0].set_ylabel('Linear correlation')\n",
    "\n",
    "# Plot a bar chart to see how home advantage and day of week affect the win rate\n",
    "sns.barplot(data=df, x='liverpool_at_home', y='win_flag', hue='day_of_week', ax=ax[1])\n",
    "ax[1].legend(loc=2, title='Weekday', fontsize='small')\n",
    "plt.show()"
   ]
  },
  {
   "cell_type": "markdown",
   "metadata": {},
   "source": [
    "So home advantage has the strongest linear relationship by a way, and appears to be most important on Fridays! (`weekday = 4`)"
   ]
  },
  {
   "cell_type": "code",
   "execution_count": 58,
   "metadata": {},
   "outputs": [
    {
     "data": {
      "image/png": "[encoded data removed]",
      "text/plain": [
       "<matplotlib.figure.Figure at 0x2509f0b75f8>"
      ]
     },
     "metadata": {},
     "output_type": "display_data"
    }
   ],
   "source": [
    "# Plot the streaks\n",
    "fig, ax = plt.subplots(nrows=1, ncols=2, figsize=[17,4])\n",
    "sns.barplot(data=df, x='win_streak', y='win_flag', ax=ax[0], palette='coolwarm')\n",
    "sns.barplot(data=df, x='undefeated_streak', y='loss_flag', ax=ax[1], palette='coolwarm')\n",
    "plt.suptitle('Effect of winning/undefeated streaks')\n",
    "plt.show()"
   ]
  },
  {
   "cell_type": "code",
   "execution_count": 17,
   "metadata": {
    "collapsed": true
   },
   "outputs": [],
   "source": [
    "# Also drop the win_flag after its been used for visualsiation\n",
    "df.drop(['win_flag', 'loss_flag'], axis=1, inplace=True)"
   ]
  },
  {
   "cell_type": "markdown",
   "metadata": {},
   "source": [
    "### Create a stratified test set"
   ]
  },
  {
   "cell_type": "code",
   "execution_count": 18,
   "metadata": {
    "collapsed": true
   },
   "outputs": [],
   "source": [
    "from sklearn.model_selection import StratifiedShuffleSplit\n",
    "\n",
    "split = StratifiedShuffleSplit(n_splits=1, test_size=0.2, random_state=42)\n",
    "df.reset_index(inplace=True, drop=True)\n",
    "for train_index, test_index in split.split(df, df['result']):\n",
    "    train = df.loc[train_index]\n",
    "    test = df.loc[test_index]"
   ]
  },
  {
   "cell_type": "code",
   "execution_count": 19,
   "metadata": {},
   "outputs": [
    {
     "data": {
      "text/html": [
       "<div>\n",
       "<style>\n",
       "    .dataframe thead tr:only-child th {\n",
       "        text-align: right;\n",
       "    }\n",
       "\n",
       "    .dataframe thead th {\n",
       "        text-align: left;\n",
       "    }\n",
       "\n",
       "    .dataframe tbody tr th {\n",
       "        vertical-align: top;\n",
       "    }\n",
       "</style>\n",
       "<table border=\"1\" class=\"dataframe\">\n",
       "  <thead>\n",
       "    <tr style=\"text-align: right;\">\n",
       "      <th></th>\n",
       "      <th>overall</th>\n",
       "      <th>stratified</th>\n",
       "      <th>strat. % error</th>\n",
       "    </tr>\n",
       "  </thead>\n",
       "  <tbody>\n",
       "    <tr>\n",
       "      <th>0</th>\n",
       "      <td>0.252772</td>\n",
       "      <td>0.254144</td>\n",
       "      <td>0.542793</td>\n",
       "    </tr>\n",
       "    <tr>\n",
       "      <th>1</th>\n",
       "      <td>0.505543</td>\n",
       "      <td>0.502762</td>\n",
       "      <td>-0.550063</td>\n",
       "    </tr>\n",
       "    <tr>\n",
       "      <th>2</th>\n",
       "      <td>0.241685</td>\n",
       "      <td>0.243094</td>\n",
       "      <td>0.582898</td>\n",
       "    </tr>\n",
       "  </tbody>\n",
       "</table>\n",
       "</div>"
      ],
      "text/plain": [
       "    overall  stratified  strat. % error\n",
       "0  0.252772    0.254144        0.542793\n",
       "1  0.505543    0.502762       -0.550063\n",
       "2  0.241685    0.243094        0.582898"
      ]
     },
     "execution_count": 19,
     "metadata": {},
     "output_type": "execute_result"
    }
   ],
   "source": [
    "sample_comparison = pd.DataFrame({\n",
    "    'overall': df['result'].value_counts().sort_index() / len(df),\n",
    "    'stratified': test['result'].value_counts().sort_index() / len(test),\n",
    "    })\n",
    "sample_comparison['strat. % error'] = 100 * (sample_comparison['stratified'] - sample_comparison['overall']) \\\n",
    "                                     / sample_comparison['overall']\n",
    "sample_comparison"
   ]
  },
  {
   "cell_type": "code",
   "execution_count": 20,
   "metadata": {
    "collapsed": true
   },
   "outputs": [],
   "source": [
    "# Separate the labels\n",
    "y_train = train.pop('result')\n",
    "y_test = test.pop('result')\n",
    "\n",
    "# Drop dates, but keep the training dates as a weight\n",
    "train_weight = train.pop('date')\n",
    "test.drop('date', axis=1, inplace=True)"
   ]
  },
  {
   "cell_type": "markdown",
   "metadata": {},
   "source": [
    "### Build a model"
   ]
  },
  {
   "cell_type": "code",
   "execution_count": 21,
   "metadata": {
    "collapsed": true
   },
   "outputs": [],
   "source": [
    "train['performance_metric'].fillna(0, inplace=True)\n",
    "test['performance_metric'].fillna(0, inplace=True)"
   ]
  },
  {
   "cell_type": "code",
   "execution_count": 22,
   "metadata": {
    "collapsed": true
   },
   "outputs": [],
   "source": [
    "from sklearn.preprocessing import MinMaxScaler\n",
    "scaler = MinMaxScaler()\n",
    "scaled_train = scaler.fit_transform(train)"
   ]
  },
  {
   "cell_type": "code",
   "execution_count": 23,
   "metadata": {},
   "outputs": [],
   "source": [
    "import lightgbm as lgbm\n",
    "\n",
    "# Create a training set\n",
    "categoricals = ['opposition', 'liverpool_at_home', 'day_of_week']\n",
    "lgbm_train_set = lgbm.Dataset(data=train, label=y_train, \n",
    "                              categorical_feature=categoricals, \n",
    "                              weight=train_weight,\n",
    "                              free_raw_data=False)\n",
    "\n",
    "# Set the training parameters\n",
    "lgbm_params = {'application': 'multiclass',\n",
    "               'booting': 'gbdt',\n",
    "               'metric': 'multi_logloss',\n",
    "               'training_metric': True,\n",
    "               'learning_rate': 0.05,\n",
    "               'feature_fraction': 0.8,\n",
    "               'min_data_in_leaf': 30,\n",
    "               'num_leaves': 31,\n",
    "               'num_classes': 3}"
   ]
  },
  {
   "cell_type": "code",
   "execution_count": 24,
   "metadata": {},
   "outputs": [
    {
     "name": "stdout",
     "output_type": "stream",
     "text": [
      "1.00124757987\n"
     ]
    },
    {
     "name": "stderr",
     "output_type": "stream",
     "text": [
      "C:\\Users\\James\\Anaconda3\\lib\\site-packages\\lightgbm\\basic.py:1005: UserWarning: Using categorical_feature in Dataset.\n",
      "  warnings.warn('Using categorical_feature in Dataset.')\n"
     ]
    }
   ],
   "source": [
    "cv_results = lgbm.cv(train_set=lgbm_train_set, \n",
    "                     params=lgbm_params, \n",
    "                     nfold=5, \n",
    "                     verbose_eval=0, \n",
    "                     num_boost_round=100,\n",
    "                     early_stopping_rounds=10)\n",
    "best_iteration = len(cv_results['multi_logloss-mean'])\n",
    "print(cv_results['multi_logloss-mean'][-1])"
   ]
  },
  {
   "cell_type": "code",
   "execution_count": 25,
   "metadata": {},
   "outputs": [
    {
     "name": "stderr",
     "output_type": "stream",
     "text": [
      "C:\\Users\\James\\Anaconda3\\lib\\site-packages\\lightgbm\\basic.py:1005: UserWarning: Using categorical_feature in Dataset.\n",
      "  warnings.warn('Using categorical_feature in Dataset.')\n"
     ]
    }
   ],
   "source": [
    "clf = lgbm.train(train_set=lgbm_train_set, \n",
    "                 params=lgbm_params,\n",
    "                 num_boost_round=best_iteration)"
   ]
  },
  {
   "cell_type": "code",
   "execution_count": 26,
   "metadata": {
    "collapsed": true
   },
   "outputs": [],
   "source": [
    "y_prob = clf.predict(test, num_iteration=best_iteration)\n",
    "y_pred = y_prob.argmax(axis=1)"
   ]
  },
  {
   "cell_type": "code",
   "execution_count": 27,
   "metadata": {},
   "outputs": [
    {
     "name": "stdout",
     "output_type": "stream",
     "text": [
      "LGBM classification accuracy =  \t 37.02%\n"
     ]
    },
    {
     "data": {
      "image/png": "[encoded data removed]",
      "text/plain": [
       "<matplotlib.figure.Figure at 0x25096762780>"
      ]
     },
     "metadata": {},
     "output_type": "display_data"
    }
   ],
   "source": [
    "from sklearn.metrics import accuracy_score, confusion_matrix, precision_score, recall_score\n",
    "\n",
    "# Simple accuracy score\n",
    "accuracy = accuracy_score(y_test, y_pred)\n",
    "precision = precision_score(y_test, y_pred, average=None)\n",
    "recall = recall_score(y_test, y_pred, average=None)\n",
    "print(\"LGBM classification accuracy =  \\t {:.2f}%\".format(100*accuracy))\n",
    "\n",
    "# Visualise the confusion matrix, normalised for classification frequency\n",
    "conf_matrix = confusion_matrix(y_test, y_pred)\n",
    "row_sums = conf_matrix.sum(axis=1, keepdims=True)\n",
    "norm_conf_matrix = conf_matrix / row_sums\n",
    "# np.fill_diagonal(norm_conf_matrix, 0)\n",
    "\n",
    "fig, ax = plt.subplots(figsize=[7,5])\n",
    "conf_plot = ax.matshow(norm_conf_matrix, cmap=plt.cm.gray)\n",
    "plt.xlabel('Predicted class')\n",
    "plt.ylabel('Actual class')\n",
    "plt.colorbar(ax=ax, mappable=conf_plot)\n",
    "plt.show()"
   ]
  },
  {
   "cell_type": "code",
   "execution_count": 28,
   "metadata": {},
   "outputs": [
    {
     "name": "stdout",
     "output_type": "stream",
     "text": [
      "[ 0.2         0.47826087  0.16129032]\n",
      "[ 0.15217391  0.6043956   0.11363636]\n"
     ]
    }
   ],
   "source": [
    "print(precision)\n",
    "print(recall)"
   ]
  },
  {
   "cell_type": "markdown",
   "metadata": {},
   "source": [
    "Lighter colors represent larger numbers in that position, so in this case we can see a lot of the errors are coming from draws (actual = 0) predicted to be wins (prediction = 1) in the centre-top position.\n",
    "\n",
    "Second worst are losses predicted to be wins. This strongly indicates that winning predictions are the most wrong.\n",
    "\n",
    "Sound like Liverpool?!"
   ]
  },
  {
   "cell_type": "code",
   "execution_count": 29,
   "metadata": {},
   "outputs": [
    {
     "data": {
      "text/plain": [
       "<matplotlib.axes._subplots.AxesSubplot at 0x2509e96b710>"
      ]
     },
     "execution_count": 29,
     "metadata": {},
     "output_type": "execute_result"
    },
    {
     "data": {
      "image/png": "[encoded data removed]",
      "text/plain": [
       "<matplotlib.figure.Figure at 0x2509e8d6240>"
      ]
     },
     "metadata": {},
     "output_type": "display_data"
    }
   ],
   "source": [
    "lgbm.plot_importance(clf)"
   ]
  },
  {
   "cell_type": "markdown",
   "metadata": {},
   "source": [
    "### Predict a given game"
   ]
  },
  {
   "cell_type": "code",
   "execution_count": 30,
   "metadata": {},
   "outputs": [
    {
     "data": {
      "text/html": [
       "<div>\n",
       "<style>\n",
       "    .dataframe thead tr:only-child th {\n",
       "        text-align: right;\n",
       "    }\n",
       "\n",
       "    .dataframe thead th {\n",
       "        text-align: left;\n",
       "    }\n",
       "\n",
       "    .dataframe tbody tr th {\n",
       "        vertical-align: top;\n",
       "    }\n",
       "</style>\n",
       "<table border=\"1\" class=\"dataframe\">\n",
       "  <thead>\n",
       "    <tr style=\"text-align: right;\">\n",
       "      <th></th>\n",
       "      <th>nth_game_this_season</th>\n",
       "      <th>opposition</th>\n",
       "      <th>liverpool_at_home</th>\n",
       "      <th>performance_metric</th>\n",
       "      <th>day_of_week</th>\n",
       "      <th>days_since_last_game</th>\n",
       "      <th>win_streak</th>\n",
       "      <th>undefeated_streak</th>\n",
       "      <th>n_times_teams_played</th>\n",
       "    </tr>\n",
       "  </thead>\n",
       "  <tbody>\n",
       "    <tr>\n",
       "      <th>732</th>\n",
       "      <td>13</td>\n",
       "      <td>17</td>\n",
       "      <td>False</td>\n",
       "      <td>0.4</td>\n",
       "      <td>5</td>\n",
       "      <td>10</td>\n",
       "      <td>1</td>\n",
       "      <td>1</td>\n",
       "      <td>47</td>\n",
       "    </tr>\n",
       "  </tbody>\n",
       "</table>\n",
       "</div>"
      ],
      "text/plain": [
       "     nth_game_this_season  opposition  liverpool_at_home  performance_metric  \\\n",
       "732                    13          17              False                 0.4   \n",
       "\n",
       "     day_of_week  days_since_last_game  win_streak  undefeated_streak  \\\n",
       "732            5                    10           1                  1   \n",
       "\n",
       "     n_times_teams_played  \n",
       "732                    47  "
      ]
     },
     "execution_count": 30,
     "metadata": {},
     "output_type": "execute_result"
    }
   ],
   "source": [
    "train.head(1)"
   ]
  },
  {
   "cell_type": "code",
   "execution_count": 31,
   "metadata": {
    "collapsed": true
   },
   "outputs": [],
   "source": [
    "# Upcoming game info\n",
    "pred_game_date = '2017-12-30'\n",
    "pred_game_opp = 'Leicester City'\n",
    "liverpool_at_home = True\n",
    "game_number_this_season = 26\n",
    "days_since_last_game = 4\n",
    "curr_win_streak = 1\n",
    "curr_undefeated_streak = 5 "
   ]
  },
  {
   "cell_type": "code",
   "execution_count": 32,
   "metadata": {},
   "outputs": [
    {
     "data": {
      "text/plain": [
       "23"
      ]
     },
     "execution_count": 32,
     "metadata": {},
     "output_type": "execute_result"
    }
   ],
   "source": [
    "given_opp = opposition_encoder.transform([pred_game_opp])\n",
    "given_opp[0]"
   ]
  },
  {
   "cell_type": "code",
   "execution_count": 33,
   "metadata": {},
   "outputs": [
    {
     "data": {
      "text/plain": [
       "21"
      ]
     },
     "execution_count": 33,
     "metadata": {},
     "output_type": "execute_result"
    }
   ],
   "source": [
    "given_opp_times_played = opposition_count_dict[given_opp[0]]\n",
    "given_opp_times_played"
   ]
  },
  {
   "cell_type": "code",
   "execution_count": 34,
   "metadata": {},
   "outputs": [
    {
     "data": {
      "text/plain": [
       "0.2857142857142857"
      ]
     },
     "execution_count": 34,
     "metadata": {},
     "output_type": "execute_result"
    }
   ],
   "source": [
    "pred_perf_metric = \\\n",
    "    opposition_performance.loc[opposition_performance['opposition'] == pred_game_opp, 'performance_metric'].values\n",
    "pred_perf_metric[0]"
   ]
  },
  {
   "cell_type": "code",
   "execution_count": 35,
   "metadata": {
    "collapsed": true
   },
   "outputs": [],
   "source": [
    "pred_game = np.array([\n",
    "    game_number_this_season,\n",
    "    given_opp[0],\n",
    "    liverpool_at_home,\n",
    "    pred_perf_metric[0],\n",
    "    pd.to_datetime(pred_game_date, format='%Y-%m-%d').weekday(),\n",
    "    days_since_last_game,\n",
    "    curr_win_streak,\n",
    "    curr_undefeated_streak,\n",
    "    given_opp_times_played\n",
    "], dtype='O').reshape([1, len(train.columns)])"
   ]
  },
  {
   "cell_type": "code",
   "execution_count": 36,
   "metadata": {},
   "outputs": [],
   "source": [
    "y_prob_live = clf.predict(pred_game)\n",
    "y_pred_live = y_prob_live.argmax(axis=1)"
   ]
  },
  {
   "cell_type": "code",
   "execution_count": 37,
   "metadata": {},
   "outputs": [
    {
     "name": "stdout",
     "output_type": "stream",
     "text": [
      "Win probability: \t 44.93%\n",
      "Loss probability: \t 20.18%\n",
      "Draw probability: \t 34.88%\n"
     ]
    }
   ],
   "source": [
    "print('Win probability: \\t {:.2f}%'.format(100*y_prob_live[0][1]))\n",
    "print('Loss probability: \\t {:.2f}%'.format(100*y_prob_live[0][2]))\n",
    "print('Draw probability: \\t {:.2f}%'.format(100*y_prob_live[0][0]))"
   ]
  },
  {
   "cell_type": "code",
   "execution_count": 38,
   "metadata": {},
   "outputs": [
    {
     "data": {
      "image/png": "[encoded data removed]",
      "text/plain": [
       "<matplotlib.figure.Figure at 0x2509e1f42e8>"
      ]
     },
     "metadata": {},
     "output_type": "display_data"
    }
   ],
   "source": [
    "feature_contributions = clf.predict(pred_game, pred_contrib=True)\n",
    "ind = np.arange(len(clf.feature_importance()))\n",
    "\n",
    "fig, ax = plt.subplots(nrows=1, ncols=2, figsize=[15,5])\n",
    "ax[0].bar(ind, clf.feature_importance())\n",
    "ax[1].bar(ind, feature_contributions.ravel()[:-1])\n",
    "for axs in ax:\n",
    "    axs.set_xticks(np.arange(len(clf.feature_importance())))\n",
    "    axs.set_xticklabels(clf.feature_name(), rotation=90)\n",
    "plt.show()"
   ]
  },
  {
   "cell_type": "code",
   "execution_count": null,
   "metadata": {
    "collapsed": true
   },
   "outputs": [],
   "source": []
  }
 ],
 "metadata": {
  "kernelspec": {
   "display_name": "Python 3",
   "language": "python",
   "name": "python3"
  },
  "language_info": {
   "codemirror_mode": {
    "name": "ipython",
    "version": 3
   },
   "file_extension": ".py",
   "mimetype": "text/x-python",
   "name": "python",
   "nbconvert_exporter": "python",
   "pygments_lexer": "ipython3",
   "version": "3.6.2"
  }
 },
 "nbformat": 4,
 "nbformat_minor": 2
}
