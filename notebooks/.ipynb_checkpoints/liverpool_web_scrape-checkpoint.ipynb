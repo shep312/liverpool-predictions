{
 "cells": [
  {
   "cell_type": "code",
   "execution_count": 1,
   "metadata": {
    "collapsed": true
   },
   "outputs": [],
   "source": [
    "import warnings\n",
    "warnings.filterwarnings('ignore')\n",
    "import lxml.html as LH\n",
    "import numpy as np\n",
    "import pandas as pd\n",
    "import urllib3\n",
    "import datetime"
   ]
  },
  {
   "cell_type": "markdown",
   "metadata": {},
   "source": [
    "### Scrape fixture history\n",
    "\n",
    "Load data from www.worldfootball.net and parse resulting HTML into a df"
   ]
  },
  {
   "cell_type": "code",
   "execution_count": 2,
   "metadata": {
    "collapsed": true
   },
   "outputs": [],
   "source": [
    "# Each results page is for a season and indexed by its end year.\n",
    "# Choose a year to start then loop back from there until we run out\n",
    "start_from = 1990"
   ]
  },
  {
   "cell_type": "code",
   "execution_count": 3,
   "metadata": {},
   "outputs": [],
   "source": [
    "# Teams to gather data for\n",
    "teams = ['liverpool-fc']"
   ]
  },
  {
   "cell_type": "code",
   "execution_count": 4,
   "metadata": {},
   "outputs": [],
   "source": [
    "# Connection settings\n",
    "# http = urllib3.PoolManager()\n",
    "default_headers = urllib3.make_headers(proxy_basic_auth='shephej:Kjowwnim35')\n",
    "http = urllib3.ProxyManager(\"https://10.132.100.135:8080/\", headers=default_headers) # 8080"
   ]
  },
  {
   "cell_type": "code",
   "execution_count": 5,
   "metadata": {},
   "outputs": [],
   "source": [
    "def text(elt):\n",
    "    \"\"\"Process HTML objects to readable strings\"\"\"\n",
    "    return elt.text_content().replace(u'\\xa0', u' ').replace(u'\\t', u'').replace(u'\\r', u'').replace(u'\\n', u'')"
   ]
  },
  {
   "cell_type": "code",
   "execution_count": 6,
   "metadata": {},
   "outputs": [
    {
     "name": "stdout",
     "output_type": "stream",
     "text": [
      "Data acquired for team liverpool-fc, season 1989 / 1990\n",
      "Data acquired for team liverpool-fc, season 1990 / 1991\n",
      "Data acquired for team liverpool-fc, season 1991 / 1992\n",
      "Data acquired for team liverpool-fc, season 1992 / 1993\n",
      "Data acquired for team liverpool-fc, season 1993 / 1994\n",
      "Data acquired for team liverpool-fc, season 1994 / 1995\n",
      "Data acquired for team liverpool-fc, season 1995 / 1996\n",
      "Data acquired for team liverpool-fc, season 1996 / 1997\n",
      "Data acquired for team liverpool-fc, season 1997 / 1998\n",
      "Data acquired for team liverpool-fc, season 1998 / 1999\n",
      "Data acquired for team liverpool-fc, season 1999 / 2000\n",
      "Data acquired for team liverpool-fc, season 2000 / 2001\n",
      "Data acquired for team liverpool-fc, season 2001 / 2002\n",
      "Data acquired for team liverpool-fc, season 2002 / 2003\n",
      "Data acquired for team liverpool-fc, season 2003 / 2004\n",
      "Data acquired for team liverpool-fc, season 2004 / 2005\n",
      "Data acquired for team liverpool-fc, season 2005 / 2006\n",
      "Data acquired for team liverpool-fc, season 2006 / 2007\n",
      "Data acquired for team liverpool-fc, season 2007 / 2008\n",
      "Data acquired for team liverpool-fc, season 2008 / 2009\n",
      "Data acquired for team liverpool-fc, season 2009 / 2010\n",
      "Data acquired for team liverpool-fc, season 2010 / 2011\n",
      "Data acquired for team liverpool-fc, season 2011 / 2012\n",
      "Data acquired for team liverpool-fc, season 2012 / 2013\n",
      "Data acquired for team liverpool-fc, season 2013 / 2014\n",
      "Data acquired for team liverpool-fc, season 2014 / 2015\n",
      "Data acquired for team liverpool-fc, season 2015 / 2016\n",
      "Data acquired for team liverpool-fc, season 2016 / 2017\n",
      "Data acquired for team liverpool-fc, season 2017 / 2018\n"
     ]
    }
   ],
   "source": [
    "season = start_from\n",
    "season_number = 0\n",
    "team_list = []\n",
    "now = datetime.datetime.now()\n",
    "for team in teams:\n",
    "    \n",
    "    while season <= now.year:\n",
    "\n",
    "        # Page to read\n",
    "        target_page = 'https://www.worldfootball.net/teams/{}/{}/3/'.format(team, season)\n",
    "\n",
    "        # Read page to get HTML\n",
    "        r = http.request('GET', target_page)\n",
    "        page = r.data.decode('utf-8')\n",
    "\n",
    "        # Parse HTML\n",
    "        root = LH.fromstring(page)\n",
    "        table = root.xpath('//table')[0]\n",
    "        header = ['round', 'date', 'time', 'place', '', 'opponent', 'result', '']\n",
    "        data = [[text(td) for td in tr.xpath('td')]  \n",
    "                for tr in table.xpath('//tr')]   \n",
    "        current_competition = None\n",
    "        table_data = []\n",
    "        for row in data:\n",
    "\n",
    "            if len(row) == 1:\n",
    "                current_competition = row[0]\n",
    "\n",
    "            if current_competition is not None and len(row)==len(header):\n",
    "                row.append(current_competition)\n",
    "                row.append('{} / {}'.format(season-1, season))\n",
    "                row.append(season_number)\n",
    "                table_data.append(row)\n",
    "                \n",
    "        header.append('competition')\n",
    "        header.append('season')\n",
    "        header.append('season_number')\n",
    "\n",
    "        # Create data frame\n",
    "        if 'df' in locals():\n",
    "            df = df.append(pd.DataFrame(table_data, columns=header), ignore_index=True)\n",
    "        else:\n",
    "            df = pd.DataFrame(table_data, columns=header)\n",
    "            \n",
    "        # Increment year \n",
    "        print('Data acquired for team {}, season {} / {}'.format(team, season-1, season))\n",
    "        season += 1\n",
    "        season_number +=1\n",
    "        \n",
    "        # Also record teams played in world soccer's format\n",
    "        team_elems = root.xpath('//a')\n",
    "        for elem in team_elems:\n",
    "            if 'href' in elem.attrib:\n",
    "                if '/teams/' in elem.attrib['href']:\n",
    "                    team_string = elem.attrib['href'].replace('/teams/', '')\n",
    "                    if team_string.count('/') == 1:\n",
    "                        team_list.append(team_string.replace('/', ''))"
   ]
  },
  {
   "cell_type": "markdown",
   "metadata": {},
   "source": [
    "### Format resulting dataframe\n",
    "\n",
    "Includes the extraction of goals and results etc."
   ]
  },
  {
   "cell_type": "code",
   "execution_count": 7,
   "metadata": {},
   "outputs": [
    {
     "name": "stdout",
     "output_type": "stream",
     "text": [
      "<class 'pandas.core.frame.DataFrame'>\n",
      "RangeIndex: 1566 entries, 0 to 1565\n",
      "Data columns (total 17 columns):\n",
      "round                  1566 non-null object\n",
      "date                   1566 non-null datetime64[ns]\n",
      "time                   1566 non-null object\n",
      "place                  1566 non-null object\n",
      "opponent               1566 non-null object\n",
      "result                 1566 non-null object\n",
      "competition            1566 non-null object\n",
      "season                 1566 non-null object\n",
      "season_number          1566 non-null int64\n",
      "round_number           1566 non-null float64\n",
      "team_score             1566 non-null object\n",
      "opposition_score       1566 non-null object\n",
      "team_ht_score          1508 non-null object\n",
      "opposition_ht_score    1503 non-null object\n",
      "team_win               1566 non-null bool\n",
      "team_draw              1566 non-null bool\n",
      "team_loss              1566 non-null bool\n",
      "dtypes: bool(3), datetime64[ns](1), float64(1), int64(1), object(11)\n",
      "memory usage: 175.9+ KB\n"
     ]
    }
   ],
   "source": [
    "# Drop empty columns resulting from the HTML parse\n",
    "df.drop('', axis=1, inplace=True)\n",
    "\n",
    "# Convert the date to a datetime and get a round number by comp\n",
    "df['date'] = pd.to_datetime(df['date'], format='%d/%m/%Y')\n",
    "df['date_as_int'] = pd.to_numeric(df['date'])\n",
    "grouped = df.groupby('competition')\n",
    "df['round_number'] = grouped['date_as_int'].rank(method='min')\n",
    "df.drop('date_as_int', axis=1, inplace=True)\n",
    "\n",
    "# Extract the goals scored by each team\n",
    "df['team_score'] = df['result'].str[0]\n",
    "df['opposition_score'] = df['result'].str[2]\n",
    "df['team_ht_score'] = df['result'].str[5]\n",
    "df['opposition_ht_score'] = df['result'].str[7]\n",
    "\n",
    "# Results\n",
    "df['team_win'] = df['team_score'] > df['opposition_score']\n",
    "df['team_draw'] = df['team_score'] == df['opposition_score']\n",
    "df['team_loss'] = df['team_score'] < df['opposition_score']\n",
    "\n",
    "df.info()"
   ]
  },
  {
   "cell_type": "code",
   "execution_count": 8,
   "metadata": {},
   "outputs": [
    {
     "data": {
      "text/html": [
       "<div>\n",
       "<style scoped>\n",
       "    .dataframe tbody tr th:only-of-type {\n",
       "        vertical-align: middle;\n",
       "    }\n",
       "\n",
       "    .dataframe tbody tr th {\n",
       "        vertical-align: top;\n",
       "    }\n",
       "\n",
       "    .dataframe thead th {\n",
       "        text-align: right;\n",
       "    }\n",
       "</style>\n",
       "<table border=\"1\" class=\"dataframe\">\n",
       "  <thead>\n",
       "    <tr style=\"text-align: right;\">\n",
       "      <th></th>\n",
       "      <th>round</th>\n",
       "      <th>date</th>\n",
       "      <th>time</th>\n",
       "      <th>place</th>\n",
       "      <th>opponent</th>\n",
       "      <th>result</th>\n",
       "      <th>competition</th>\n",
       "      <th>season</th>\n",
       "      <th>season_number</th>\n",
       "      <th>round_number</th>\n",
       "      <th>team_score</th>\n",
       "      <th>opposition_score</th>\n",
       "      <th>team_ht_score</th>\n",
       "      <th>opposition_ht_score</th>\n",
       "      <th>team_win</th>\n",
       "      <th>team_draw</th>\n",
       "      <th>team_loss</th>\n",
       "    </tr>\n",
       "  </thead>\n",
       "  <tbody>\n",
       "    <tr>\n",
       "      <th>0</th>\n",
       "      <td>1. Round</td>\n",
       "      <td>1989-08-18</td>\n",
       "      <td></td>\n",
       "      <td>H</td>\n",
       "      <td>Manchester City</td>\n",
       "      <td>3:1 (1:1)</td>\n",
       "      <td>Premier League 1989/1990</td>\n",
       "      <td>1989 / 1990</td>\n",
       "      <td>0</td>\n",
       "      <td>1.0</td>\n",
       "      <td>3</td>\n",
       "      <td>1</td>\n",
       "      <td>1</td>\n",
       "      <td>1</td>\n",
       "      <td>True</td>\n",
       "      <td>False</td>\n",
       "      <td>False</td>\n",
       "    </tr>\n",
       "    <tr>\n",
       "      <th>1</th>\n",
       "      <td>2. Round</td>\n",
       "      <td>1989-08-22</td>\n",
       "      <td></td>\n",
       "      <td>A</td>\n",
       "      <td>Aston Villa</td>\n",
       "      <td>1:1 (1:0)</td>\n",
       "      <td>Premier League 1989/1990</td>\n",
       "      <td>1989 / 1990</td>\n",
       "      <td>0</td>\n",
       "      <td>2.0</td>\n",
       "      <td>1</td>\n",
       "      <td>1</td>\n",
       "      <td>1</td>\n",
       "      <td>0</td>\n",
       "      <td>False</td>\n",
       "      <td>True</td>\n",
       "      <td>False</td>\n",
       "    </tr>\n",
       "    <tr>\n",
       "      <th>2</th>\n",
       "      <td>3. Round</td>\n",
       "      <td>1989-08-25</td>\n",
       "      <td></td>\n",
       "      <td>A</td>\n",
       "      <td>Luton Town</td>\n",
       "      <td>0:0 (0:0)</td>\n",
       "      <td>Premier League 1989/1990</td>\n",
       "      <td>1989 / 1990</td>\n",
       "      <td>0</td>\n",
       "      <td>3.0</td>\n",
       "      <td>0</td>\n",
       "      <td>0</td>\n",
       "      <td>0</td>\n",
       "      <td>0</td>\n",
       "      <td>False</td>\n",
       "      <td>True</td>\n",
       "      <td>False</td>\n",
       "    </tr>\n",
       "    <tr>\n",
       "      <th>3</th>\n",
       "      <td>5. Round</td>\n",
       "      <td>1989-09-08</td>\n",
       "      <td></td>\n",
       "      <td>A</td>\n",
       "      <td>Derby County</td>\n",
       "      <td>3:0 (0:0)</td>\n",
       "      <td>Premier League 1989/1990</td>\n",
       "      <td>1989 / 1990</td>\n",
       "      <td>0</td>\n",
       "      <td>4.0</td>\n",
       "      <td>3</td>\n",
       "      <td>0</td>\n",
       "      <td>0</td>\n",
       "      <td>0</td>\n",
       "      <td>True</td>\n",
       "      <td>False</td>\n",
       "      <td>False</td>\n",
       "    </tr>\n",
       "    <tr>\n",
       "      <th>4</th>\n",
       "      <td>4. Round</td>\n",
       "      <td>1989-09-11</td>\n",
       "      <td></td>\n",
       "      <td>H</td>\n",
       "      <td>Crystal Palace</td>\n",
       "      <td>9:0 (3:0)</td>\n",
       "      <td>Premier League 1989/1990</td>\n",
       "      <td>1989 / 1990</td>\n",
       "      <td>0</td>\n",
       "      <td>5.0</td>\n",
       "      <td>9</td>\n",
       "      <td>0</td>\n",
       "      <td>3</td>\n",
       "      <td>0</td>\n",
       "      <td>True</td>\n",
       "      <td>False</td>\n",
       "      <td>False</td>\n",
       "    </tr>\n",
       "  </tbody>\n",
       "</table>\n",
       "</div>"
      ],
      "text/plain": [
       "      round       date time place         opponent      result  \\\n",
       "0  1. Round 1989-08-18          H  Manchester City  3:1 (1:1)    \n",
       "1  2. Round 1989-08-22          A      Aston Villa  1:1 (1:0)    \n",
       "2  3. Round 1989-08-25          A       Luton Town  0:0 (0:0)    \n",
       "3  5. Round 1989-09-08          A     Derby County  3:0 (0:0)    \n",
       "4  4. Round 1989-09-11          H   Crystal Palace  9:0 (3:0)    \n",
       "\n",
       "                competition       season  season_number  round_number  \\\n",
       "0  Premier League 1989/1990  1989 / 1990              0           1.0   \n",
       "1  Premier League 1989/1990  1989 / 1990              0           2.0   \n",
       "2  Premier League 1989/1990  1989 / 1990              0           3.0   \n",
       "3  Premier League 1989/1990  1989 / 1990              0           4.0   \n",
       "4  Premier League 1989/1990  1989 / 1990              0           5.0   \n",
       "\n",
       "  team_score opposition_score team_ht_score opposition_ht_score  team_win  \\\n",
       "0          3                1             1                   1      True   \n",
       "1          1                1             1                   0     False   \n",
       "2          0                0             0                   0     False   \n",
       "3          3                0             0                   0      True   \n",
       "4          9                0             3                   0      True   \n",
       "\n",
       "   team_draw  team_loss  \n",
       "0      False      False  \n",
       "1       True      False  \n",
       "2       True      False  \n",
       "3      False      False  \n",
       "4      False      False  "
      ]
     },
     "execution_count": 8,
     "metadata": {},
     "output_type": "execute_result"
    }
   ],
   "source": [
    "df.head()"
   ]
  },
  {
   "cell_type": "code",
   "execution_count": 9,
   "metadata": {},
   "outputs": [],
   "source": [
    "# Write results\n",
    "df.to_csv('../data/training_data/world_football_fixture_history.csv', index=False)"
   ]
  },
  {
   "cell_type": "markdown",
   "metadata": {},
   "source": [
    "### Output all teams played\n",
    "\n",
    "Output teams played in wolrd soccers format"
   ]
  },
  {
   "cell_type": "code",
   "execution_count": 10,
   "metadata": {},
   "outputs": [
    {
     "name": "stdout",
     "output_type": "stream",
     "text": [
      "177 different teams played\n"
     ]
    }
   ],
   "source": [
    "opp_teams = np.unique(np.array(team_list))\n",
    "print('{} different teams played'.format(len(opp_teams)))"
   ]
  },
  {
   "cell_type": "code",
   "execution_count": 11,
   "metadata": {},
   "outputs": [
    {
     "data": {
      "text/plain": [
       "array(['1899-hoffenheim', 'ac-milan', 'acf-fiorentina', 'afc-bournemouth',\n",
       "       'afc-wimbledon', 'aj-auxerre', 'alania-vladikavkaz',\n",
       "       'anzhi-makhachkala', 'apollon-limassol', 'arsenal-fc', 'as-monaco',\n",
       "       'as-roma', 'aston-villa', 'athletic-bilbao', 'atletico-madrid',\n",
       "       'barnsley-fc', 'bayer-leverkusen', 'bayern-muenchen', 'besiktas',\n",
       "       'birmingham-city', 'blackburn-rovers', 'blackpool-fc', 'boavista',\n",
       "       'bolton-wanderers', 'borussia-dortmund', 'bradford-city',\n",
       "       'brighton-hove-albion', 'bristol-city', 'bristol-rovers',\n",
       "       'broendby-if', 'bsc-young-boys', 'burnley-fc', 'burton-albion',\n",
       "       'cardiff-city', 'carlisle-united', 'cd-alaves', 'celta-vigo',\n",
       "       'celtic-fc', 'charlton-athletic', 'chelsea-fc', 'coventry-city',\n",
       "       'crewe-alexandra', 'crystal-palace', 'cska-moskva', 'cska-sofia',\n",
       "       'debreceni-vsc', 'deportivo-la-coruna', 'deportivo-saprissa',\n",
       "       'derby-county', 'dinamo-kiev', 'england-amat-team',\n",
       "       'england-frauen-team', 'england-team', 'england-u-20-d-team',\n",
       "       'england-u-20-h-team', 'england-u15-h-team', 'england-u16-h-team',\n",
       "       'england-u17-d-team', 'england-u17-h-team', 'england-u18-h-team',\n",
       "       'england-u19-d-team', 'england-u19-h-team', 'england-u21-h-team',\n",
       "       'everton-fc', 'exeter-city', 'fbk-kaunas', 'fc-augsburg',\n",
       "       'fc-barcelona', 'fc-basel', 'fc-kuusysi', 'fc-porto', 'fc-sion',\n",
       "       'fc-unirea', 'fc-utrecht', 'fc-vss-kosice', 'fc-wacker-innsbruck',\n",
       "       'fk-gomel', 'fk-rabotnicki', 'fulham-fc', 'galatasaray',\n",
       "       'genoa-cfc', 'girondins-bordeaux', 'grazer-ak', 'grimsby-town',\n",
       "       'haka-valkeakoski', 'havant-waterlooville', 'heart-of-midlothian',\n",
       "       'hertha-bsc', 'huddersfield-town', 'hull-city', 'inter',\n",
       "       'ipswich-town', 'juventus', 'leeds-united', 'leicester-city',\n",
       "       'levski-sofia', 'lille-osc', 'liverpool-fc',\n",
       "       'liverpool-fc-a-junioren', 'liverpool-fc-b-junioren',\n",
       "       'liverpool-fc-r', 'liverpool-fc-u23', 'liverpool-lfc-frauen',\n",
       "       'luton-town', 'maccabi-haifa', 'manchester-city',\n",
       "       'manchester-united', 'mansfield-town', 'middlesbrough-fc',\n",
       "       'millwall-fc', 'milton-keynes-dons', 'mypa-kouvola',\n",
       "       'newcastle-united', 'nk-maribor', 'northampton-town',\n",
       "       'norwich-city', 'nottingham-forest', 'notts-county',\n",
       "       'oldham-athletic', 'olimpija-ljubljana', 'olympiakos-piraeus',\n",
       "       'olympique-lyon', 'olympique-marseille', 'paris-saint-germain',\n",
       "       'peterborough-united', 'pfc-ludogorets-razgrad', 'plymouth-argyle',\n",
       "       'port-vale-fc', 'portsmouth-fc', 'preston-north-end',\n",
       "       'psv-eindhoven', 'queens-park-rangers', 'rapid-bucuresti',\n",
       "       'rc-strasbourg', 'reading-fc', 'real-betis', 'real-madrid',\n",
       "       'rochdale-afc', 'rotherham-united', 'rsc-anderlecht', 'rubin-kazan',\n",
       "       'sao-paulo-fc', 'sevilla-fc', 'sheffield-united',\n",
       "       'sheffield-wednesday', 'shrewsbury-town', 'sk-brann', 'sl-benfica',\n",
       "       'slovan-liberec', 'southampton-fc', 'sparta-praha',\n",
       "       'spartak-moskva', 'sporting-braga', 'ssc-napoli', 'standard-liege',\n",
       "       'steaua-bucuresti', 'stoke-city', 'sunderland-afc', 'swansea-city',\n",
       "       'swindon-town', 'the-new-saints', 'tottenham-hotspur',\n",
       "       'toulouse-fc', 'trabzonspor', 'tranmere-rovers', 'udinese-calcio',\n",
       "       'valencia-cf', 'villarreal-cf', 'vitesse', 'watford-fc',\n",
       "       'west-bromwich-albion', 'west-ham-united', 'wigan-athletic',\n",
       "       'wolverhampton-wanderers', 'wycombe-wanderers', 'yeovil-town',\n",
       "       'zenit-st-petersburg'],\n",
       "      dtype='<U23')"
      ]
     },
     "execution_count": 11,
     "metadata": {},
     "output_type": "execute_result"
    }
   ],
   "source": [
    "opp_teams"
   ]
  },
  {
   "cell_type": "code",
   "execution_count": 35,
   "metadata": {},
   "outputs": [],
   "source": [
    "prem_opponents = df.loc[df['competition'].str.contains('Premier League'), 'opponent'].str.lower()\n",
    "prem_opponents = opponents.str.replace(' ', '-')"
   ]
  },
  {
   "cell_type": "code",
   "execution_count": 37,
   "metadata": {},
   "outputs": [],
   "source": [
    "bool = []\n",
    "for t in prem_opponents:\n",
    "    if t in opp_teams:\n",
    "        bool.append(True)\n",
    "    else:\n",
    "        bool.append(False)"
   ]
  },
  {
   "cell_type": "code",
   "execution_count": 39,
   "metadata": {},
   "outputs": [],
   "source": [
    "bool = np.array(bool)"
   ]
  },
  {
   "cell_type": "code",
   "execution_count": 41,
   "metadata": {},
   "outputs": [
    {
     "data": {
      "text/plain": [
       "0.97853309481216455"
      ]
     },
     "execution_count": 41,
     "metadata": {},
     "output_type": "execute_result"
    }
   ],
   "source": [
    "sum(bool) / len(bool)"
   ]
  },
  {
   "cell_type": "code",
   "execution_count": 42,
   "metadata": {},
   "outputs": [
    {
     "data": {
      "text/plain": [
       "7                 wimbledon-fc\n",
       "30                wimbledon-fc\n",
       "51                wimbledon-fc\n",
       "69                wimbledon-fc\n",
       "117               wimbledon-fc\n",
       "138               wimbledon-fc\n",
       "170               wimbledon-fc\n",
       "183               wimbledon-fc\n",
       "231               wimbledon-fc\n",
       "246               wimbledon-fc\n",
       "266               wimbledon-fc\n",
       "295               wimbledon-fc\n",
       "320               wimbledon-fc\n",
       "344               wimbledon-fc\n",
       "384               wimbledon-fc\n",
       "407               wimbledon-fc\n",
       "419               wimbledon-fc\n",
       "439               wimbledon-fc\n",
       "485               wimbledon-fc\n",
       "506               wimbledon-fc\n",
       "530               wimbledon-fc\n",
       "543               wimbledon-fc\n",
       "1539    brighton-&-hove-albion\n",
       "1562    brighton-&-hove-albion\n",
       "Name: opponent, dtype: object"
      ]
     },
     "execution_count": 42,
     "metadata": {},
     "output_type": "execute_result"
    }
   ],
   "source": [
    "prem_opponents[~bool]"
   ]
  },
  {
   "cell_type": "code",
   "execution_count": null,
   "metadata": {},
   "outputs": [],
   "source": []
  }
 ],
 "metadata": {
  "kernelspec": {
   "display_name": "Python 3",
   "language": "python",
   "name": "python3"
  },
  "language_info": {
   "codemirror_mode": {
    "name": "ipython",
    "version": 3
   },
   "file_extension": ".py",
   "mimetype": "text/x-python",
   "name": "python",
   "nbconvert_exporter": "python",
   "pygments_lexer": "ipython3",
   "version": "3.6.3"
  }
 },
 "nbformat": 4,
 "nbformat_minor": 2
}
