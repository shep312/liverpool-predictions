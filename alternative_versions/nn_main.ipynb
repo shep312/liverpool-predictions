{
 "cells": [
  {
   "cell_type": "code",
   "execution_count": 1,
   "metadata": {
    "collapsed": true
   },
   "outputs": [],
   "source": [
    "import pandas as pd\n",
    "import numpy as np\n",
    "import os\n",
    "import matplotlib.pyplot as plt\n",
    "import seaborn as sns\n",
    "from sklearn.preprocessing import MinMaxScaler\n",
    "from utilities.data_processing import ProcessInput\n",
    "%matplotlib inline"
   ]
  },
  {
   "cell_type": "markdown",
   "metadata": {},
   "source": [
    "# Modelling LFC results\n",
    "\n",
    "Attempt to build a model to predict the result of a liverpool game\n",
    "\n",
    "### Load fixture history data\n",
    "\n",
    "Currently only interested in the Premier League, so limit the data to that for now"
   ]
  },
  {
   "cell_type": "code",
   "execution_count": 2,
   "metadata": {},
   "outputs": [
    {
     "data": {
      "text/html": [
       "<div>\n",
       "<style>\n",
       "    .dataframe thead tr:only-child th {\n",
       "        text-align: right;\n",
       "    }\n",
       "\n",
       "    .dataframe thead th {\n",
       "        text-align: left;\n",
       "    }\n",
       "\n",
       "    .dataframe tbody tr th {\n",
       "        vertical-align: top;\n",
       "    }\n",
       "</style>\n",
       "<table border=\"1\" class=\"dataframe\">\n",
       "  <thead>\n",
       "    <tr style=\"text-align: right;\">\n",
       "      <th></th>\n",
       "      <th>away_score</th>\n",
       "      <th>competition</th>\n",
       "      <th>date</th>\n",
       "      <th>home_score</th>\n",
       "      <th>nth_game_this_season</th>\n",
       "      <th>opposition</th>\n",
       "      <th>venue</th>\n",
       "    </tr>\n",
       "  </thead>\n",
       "  <tbody>\n",
       "    <tr>\n",
       "      <th>64</th>\n",
       "      <td>0</td>\n",
       "      <td>Premier League</td>\n",
       "      <td>14/08/1993</td>\n",
       "      <td>2</td>\n",
       "      <td>1</td>\n",
       "      <td>Sheffield Wednesday</td>\n",
       "      <td>Anfield</td>\n",
       "    </tr>\n",
       "    <tr>\n",
       "      <th>65</th>\n",
       "      <td>1</td>\n",
       "      <td>Premier League</td>\n",
       "      <td>18/08/1993</td>\n",
       "      <td>3</td>\n",
       "      <td>2</td>\n",
       "      <td>Queens Park Rangers</td>\n",
       "      <td>Loftus Road</td>\n",
       "    </tr>\n",
       "    <tr>\n",
       "      <th>66</th>\n",
       "      <td>0</td>\n",
       "      <td>Premier League</td>\n",
       "      <td>22/08/1993</td>\n",
       "      <td>5</td>\n",
       "      <td>3</td>\n",
       "      <td>Swindon Town</td>\n",
       "      <td>County Ground</td>\n",
       "    </tr>\n",
       "    <tr>\n",
       "      <th>67</th>\n",
       "      <td>2</td>\n",
       "      <td>Premier League</td>\n",
       "      <td>25/08/1993</td>\n",
       "      <td>1</td>\n",
       "      <td>4</td>\n",
       "      <td>Tottenham Hotspur</td>\n",
       "      <td>Anfield</td>\n",
       "    </tr>\n",
       "    <tr>\n",
       "      <th>68</th>\n",
       "      <td>0</td>\n",
       "      <td>Premier League</td>\n",
       "      <td>28/08/1993</td>\n",
       "      <td>2</td>\n",
       "      <td>5</td>\n",
       "      <td>Leeds United</td>\n",
       "      <td>Anfield</td>\n",
       "    </tr>\n",
       "  </tbody>\n",
       "</table>\n",
       "</div>"
      ],
      "text/plain": [
       "    away_score     competition        date  home_score  nth_game_this_season  \\\n",
       "64           0  Premier League  14/08/1993           2                     1   \n",
       "65           1  Premier League  18/08/1993           3                     2   \n",
       "66           0  Premier League  22/08/1993           5                     3   \n",
       "67           2  Premier League  25/08/1993           1                     4   \n",
       "68           0  Premier League  28/08/1993           2                     5   \n",
       "\n",
       "             opposition          venue  \n",
       "64  Sheffield Wednesday        Anfield  \n",
       "65  Queens Park Rangers    Loftus Road  \n",
       "66         Swindon Town  County Ground  \n",
       "67    Tottenham Hotspur        Anfield  \n",
       "68         Leeds United        Anfield  "
      ]
     },
     "execution_count": 2,
     "metadata": {},
     "output_type": "execute_result"
    }
   ],
   "source": [
    "file_path = os.path.join('data', 'liverpool_fixture_history.csv')\n",
    "df = pd.read_csv(file_path)\n",
    "df = df[df['competition'] == 'Premier League']\n",
    "df.head(5)"
   ]
  },
  {
   "cell_type": "markdown",
   "metadata": {},
   "source": [
    "## Feature extraction\n",
    "\n",
    "Use predefined transformation method to add in additional features including:\n",
    "\n",
    "- A scaled version of the date to act as a weight column, giving more weight to more recent games\n",
    "- Extracting the day of week from the data column, as well as days since last game\n",
    "- Drop the venue column after converting it to a home/away flag\n",
    "- Add the current win streak and undefeated streaks as integers\n",
    "- Create a beatability index for each oppositon based on previous performance against them"
   ]
  },
  {
   "cell_type": "code",
   "execution_count": 3,
   "metadata": {},
   "outputs": [
    {
     "data": {
      "text/html": [
       "<div>\n",
       "<style>\n",
       "    .dataframe thead tr:only-child th {\n",
       "        text-align: right;\n",
       "    }\n",
       "\n",
       "    .dataframe thead th {\n",
       "        text-align: left;\n",
       "    }\n",
       "\n",
       "    .dataframe tbody tr th {\n",
       "        vertical-align: top;\n",
       "    }\n",
       "</style>\n",
       "<table border=\"1\" class=\"dataframe\">\n",
       "  <thead>\n",
       "    <tr style=\"text-align: right;\">\n",
       "      <th></th>\n",
       "      <th>competition</th>\n",
       "      <th>date</th>\n",
       "      <th>nth_game_this_season</th>\n",
       "      <th>opposition</th>\n",
       "      <th>liverpool_at_home</th>\n",
       "      <th>result</th>\n",
       "      <th>liverpool_goals_scored</th>\n",
       "      <th>opposition_goals_scored</th>\n",
       "      <th>win_flag</th>\n",
       "      <th>loss_flag</th>\n",
       "      <th>...</th>\n",
       "      <th>win_streak</th>\n",
       "      <th>undefeated_streak</th>\n",
       "      <th>pl_gameweek</th>\n",
       "      <th>PPG</th>\n",
       "      <th>season_number</th>\n",
       "      <th>season_points</th>\n",
       "      <th>GFPG</th>\n",
       "      <th>GAPG</th>\n",
       "      <th>GDPG</th>\n",
       "      <th>n_times_teams_played</th>\n",
       "    </tr>\n",
       "  </thead>\n",
       "  <tbody>\n",
       "    <tr>\n",
       "      <th>0</th>\n",
       "      <td>Premier League</td>\n",
       "      <td>1.000000</td>\n",
       "      <td>29</td>\n",
       "      <td>39</td>\n",
       "      <td>True</td>\n",
       "      <td>1</td>\n",
       "      <td>5.0</td>\n",
       "      <td>0.0</td>\n",
       "      <td>True</td>\n",
       "      <td>False</td>\n",
       "      <td>...</td>\n",
       "      <td>0</td>\n",
       "      <td>1</td>\n",
       "      <td>0</td>\n",
       "      <td>1.368421</td>\n",
       "      <td>0</td>\n",
       "      <td>26</td>\n",
       "      <td>1.789474</td>\n",
       "      <td>1.578947</td>\n",
       "      <td>0.210526</td>\n",
       "      <td>13</td>\n",
       "    </tr>\n",
       "    <tr>\n",
       "      <th>1</th>\n",
       "      <td>Premier League</td>\n",
       "      <td>0.999551</td>\n",
       "      <td>28</td>\n",
       "      <td>0</td>\n",
       "      <td>False</td>\n",
       "      <td>0</td>\n",
       "      <td>3.0</td>\n",
       "      <td>3.0</td>\n",
       "      <td>False</td>\n",
       "      <td>False</td>\n",
       "      <td>...</td>\n",
       "      <td>0</td>\n",
       "      <td>0</td>\n",
       "      <td>19</td>\n",
       "      <td>1.388889</td>\n",
       "      <td>24</td>\n",
       "      <td>25</td>\n",
       "      <td>1.722222</td>\n",
       "      <td>1.500000</td>\n",
       "      <td>0.222222</td>\n",
       "      <td>48</td>\n",
       "    </tr>\n",
       "    <tr>\n",
       "      <th>2</th>\n",
       "      <td>Premier League</td>\n",
       "      <td>0.998989</td>\n",
       "      <td>27</td>\n",
       "      <td>7</td>\n",
       "      <td>False</td>\n",
       "      <td>2</td>\n",
       "      <td>0.0</td>\n",
       "      <td>4.0</td>\n",
       "      <td>False</td>\n",
       "      <td>True</td>\n",
       "      <td>...</td>\n",
       "      <td>0</td>\n",
       "      <td>2</td>\n",
       "      <td>18</td>\n",
       "      <td>1.470588</td>\n",
       "      <td>24</td>\n",
       "      <td>25</td>\n",
       "      <td>1.823529</td>\n",
       "      <td>1.352941</td>\n",
       "      <td>0.470588</td>\n",
       "      <td>5</td>\n",
       "    </tr>\n",
       "    <tr>\n",
       "      <th>3</th>\n",
       "      <td>Premier League</td>\n",
       "      <td>0.998539</td>\n",
       "      <td>26</td>\n",
       "      <td>43</td>\n",
       "      <td>True</td>\n",
       "      <td>0</td>\n",
       "      <td>0.0</td>\n",
       "      <td>0.0</td>\n",
       "      <td>False</td>\n",
       "      <td>False</td>\n",
       "      <td>...</td>\n",
       "      <td>0</td>\n",
       "      <td>1</td>\n",
       "      <td>17</td>\n",
       "      <td>1.500000</td>\n",
       "      <td>24</td>\n",
       "      <td>24</td>\n",
       "      <td>1.937500</td>\n",
       "      <td>1.437500</td>\n",
       "      <td>0.500000</td>\n",
       "      <td>23</td>\n",
       "    </tr>\n",
       "    <tr>\n",
       "      <th>4</th>\n",
       "      <td>Premier League</td>\n",
       "      <td>0.998202</td>\n",
       "      <td>25</td>\n",
       "      <td>17</td>\n",
       "      <td>True</td>\n",
       "      <td>0</td>\n",
       "      <td>1.0</td>\n",
       "      <td>1.0</td>\n",
       "      <td>False</td>\n",
       "      <td>False</td>\n",
       "      <td>...</td>\n",
       "      <td>0</td>\n",
       "      <td>0</td>\n",
       "      <td>16</td>\n",
       "      <td>1.533333</td>\n",
       "      <td>24</td>\n",
       "      <td>23</td>\n",
       "      <td>2.000000</td>\n",
       "      <td>1.466667</td>\n",
       "      <td>0.533333</td>\n",
       "      <td>47</td>\n",
       "    </tr>\n",
       "  </tbody>\n",
       "</table>\n",
       "<p>5 rows × 23 columns</p>\n",
       "</div>"
      ],
      "text/plain": [
       "      competition      date  nth_game_this_season  opposition  \\\n",
       "0  Premier League  1.000000                    29          39   \n",
       "1  Premier League  0.999551                    28           0   \n",
       "2  Premier League  0.998989                    27           7   \n",
       "3  Premier League  0.998539                    26          43   \n",
       "4  Premier League  0.998202                    25          17   \n",
       "\n",
       "   liverpool_at_home  result  liverpool_goals_scored  opposition_goals_scored  \\\n",
       "0               True       1                     5.0                      0.0   \n",
       "1              False       0                     3.0                      3.0   \n",
       "2              False       2                     0.0                      4.0   \n",
       "3               True       0                     0.0                      0.0   \n",
       "4               True       0                     1.0                      1.0   \n",
       "\n",
       "   win_flag  loss_flag          ...           win_streak  undefeated_streak  \\\n",
       "0      True      False          ...                    0                  1   \n",
       "1     False      False          ...                    0                  0   \n",
       "2     False       True          ...                    0                  2   \n",
       "3     False      False          ...                    0                  1   \n",
       "4     False      False          ...                    0                  0   \n",
       "\n",
       "   pl_gameweek       PPG  season_number  season_points      GFPG      GAPG  \\\n",
       "0            0  1.368421              0             26  1.789474  1.578947   \n",
       "1           19  1.388889             24             25  1.722222  1.500000   \n",
       "2           18  1.470588             24             25  1.823529  1.352941   \n",
       "3           17  1.500000             24             24  1.937500  1.437500   \n",
       "4           16  1.533333             24             23  2.000000  1.466667   \n",
       "\n",
       "       GDPG  n_times_teams_played  \n",
       "0  0.210526                    13  \n",
       "1  0.222222                    48  \n",
       "2  0.470588                     5  \n",
       "3  0.500000                    23  \n",
       "4  0.533333                    47  \n",
       "\n",
       "[5 rows x 23 columns]"
      ]
     },
     "execution_count": 3,
     "metadata": {},
     "output_type": "execute_result"
    }
   ],
   "source": [
    "processor = ProcessInput()\n",
    "df = processor.fit_transform(df)\n",
    "df.head()"
   ]
  },
  {
   "cell_type": "markdown",
   "metadata": {},
   "source": [
    "### Average performance vs specific opposition\n",
    "\n",
    "A beatability index gives an indication of how well Liverpool plays against each team in the premier league.\n",
    "\n",
    "For any given opposition, it is simply:\n",
    "\n",
    "\\begin{align}\n",
    "b_{opp} = \\frac{games\\ won_{opp}}{total\\ games_{opp}} - \\frac{games\\ lost_{opp}}{total\\ games_{opp}}\n",
    "\\end{align}\n",
    "\n"
   ]
  },
  {
   "cell_type": "code",
   "execution_count": 4,
   "metadata": {},
   "outputs": [
    {
     "data": {
      "image/png": "[encoded data removed]",
      "text/plain": [
       "<matplotlib.figure.Figure at 0x2bbab35e278>"
      ]
     },
     "metadata": {},
     "output_type": "display_data"
    }
   ],
   "source": [
    "plt.figure(figsize=[17, 4])\n",
    "barplot = sns.barplot(x='opposition', y='beatability_index', data=processor.beatability_df.sort_values(by='beatability_index'))\n",
    "for label in barplot.get_xticklabels():\n",
    "    label.set_rotation(90)"
   ]
  },
  {
   "cell_type": "markdown",
   "metadata": {},
   "source": [
    "### Performance as season progresses"
   ]
  },
  {
   "cell_type": "code",
   "execution_count": 5,
   "metadata": {},
   "outputs": [
    {
     "data": {
      "image/png": "[encoded data removed]",
      "text/plain": [
       "<matplotlib.figure.Figure at 0x2bbab35edd8>"
      ]
     },
     "metadata": {},
     "output_type": "display_data"
    }
   ],
   "source": [
    "seasons_to_plot = 5\n",
    "\n",
    "fig, axs = plt.subplots(nrows=1, ncols=2, figsize=[16,7])\n",
    "\n",
    "for season in range(df['season_number'].max()+1 - seasons_to_plot, df['season_number'].max()+1):\n",
    "    season_df = df[df['season_number'] == season]   \n",
    "    axs[0].plot(season_df['pl_gameweek'], season_df['PPG'].rolling(5).mean(), label=season)\n",
    "    axs[1].plot(season_df['pl_gameweek'], season_df['GFPG'].rolling(5).mean(), label=season)\n",
    "    \n",
    "axs[0].legend()\n",
    "plt.show()"
   ]
  },
  {
   "cell_type": "markdown",
   "metadata": {},
   "source": [
    "### Drop data that we can't use in training"
   ]
  },
  {
   "cell_type": "code",
   "execution_count": 6,
   "metadata": {
    "collapsed": true
   },
   "outputs": [],
   "source": [
    "# Only interested in the Premier League for now\n",
    "df = df[df['competition'] == 'Premier League']\n",
    "df.drop('competition', axis=1, inplace=True)"
   ]
  },
  {
   "cell_type": "code",
   "execution_count": 7,
   "metadata": {
    "collapsed": true
   },
   "outputs": [],
   "source": [
    "# Scores can't be used in prediction\n",
    "df.drop(['liverpool_goals_scored', 'opposition_goals_scored'], axis=1, inplace=True)"
   ]
  },
  {
   "cell_type": "code",
   "execution_count": 8,
   "metadata": {
    "collapsed": true
   },
   "outputs": [],
   "source": [
    "# Drop any other features we don't want to use in training\n",
    "df.drop(['season_number', 'season_points'], axis=1, inplace=True)"
   ]
  },
  {
   "cell_type": "markdown",
   "metadata": {},
   "source": [
    "### Correlation of features with label"
   ]
  },
  {
   "cell_type": "code",
   "execution_count": 9,
   "metadata": {},
   "outputs": [
    {
     "data": {
      "image/png": "[encoded data removed]",
      "text/plain": [
       "<matplotlib.figure.Figure at 0x2bbab9df390>"
      ]
     },
     "metadata": {},
     "output_type": "display_data"
    }
   ],
   "source": [
    "# Calculate correlation matrix then extract the correlations with respect to the win flag\n",
    "corr_mat = df.corr()\n",
    "correlation_with_win = corr_mat['win_flag']\n",
    "correlation_with_win = correlation_with_win[~np.isin(correlation_with_win.index.values, \n",
    "                                                     ['win_flag', 'result', 'loss_flag'])]\n",
    "correlation_with_win.sort_values(inplace=True)\n",
    "\n",
    "# Plot these correlations\n",
    "fig, ax = plt.subplots(nrows=1, ncols=2, figsize=[15,4])\n",
    "ax[0].bar(np.arange(len(correlation_with_win)), correlation_with_win)\n",
    "ax[0].set_xticks(np.arange(len(correlation_with_win)))\n",
    "ax[0].set_xticklabels(correlation_with_win.index.values, rotation=90)\n",
    "ax[0].set_ylabel('Linear correlation')\n",
    "\n",
    "# Plot a bar chart to see how home advantage and day of week affect the win rate\n",
    "sns.barplot(data=df, x='liverpool_at_home', y='win_flag', hue='day_of_week', ax=ax[1])\n",
    "ax[1].legend(loc=2, title='Weekday', fontsize='small')\n",
    "plt.show()"
   ]
  },
  {
   "cell_type": "markdown",
   "metadata": {},
   "source": [
    "So home advantage has the strongest linear relationship by a way, and appears to be most important on Fridays! (`weekday = 4`)"
   ]
  },
  {
   "cell_type": "code",
   "execution_count": 10,
   "metadata": {
    "collapsed": true
   },
   "outputs": [],
   "source": [
    "# Also drop the win_flag after its been used for visualsiation\n",
    "df.drop(['win_flag', 'loss_flag'], axis=1, inplace=True)\n",
    "\n",
    "# Kill any nulls left at this stage for now\n",
    "#TODO revise?\n",
    "df.dropna(axis=0, inplace=True)"
   ]
  },
  {
   "cell_type": "markdown",
   "metadata": {},
   "source": [
    "### Create a stratified test set"
   ]
  },
  {
   "cell_type": "code",
   "execution_count": 11,
   "metadata": {
    "collapsed": true
   },
   "outputs": [],
   "source": [
    "from sklearn.model_selection import StratifiedShuffleSplit\n",
    "\n",
    "split = StratifiedShuffleSplit(n_splits=1, test_size=0.2, random_state=42)\n",
    "df.reset_index(inplace=True, drop=True)\n",
    "for train_index, test_index in split.split(df, df['result']):\n",
    "    train = df.loc[train_index]\n",
    "    test = df.loc[test_index]"
   ]
  },
  {
   "cell_type": "code",
   "execution_count": 12,
   "metadata": {},
   "outputs": [
    {
     "data": {
      "text/html": [
       "<div>\n",
       "<style>\n",
       "    .dataframe thead tr:only-child th {\n",
       "        text-align: right;\n",
       "    }\n",
       "\n",
       "    .dataframe thead th {\n",
       "        text-align: left;\n",
       "    }\n",
       "\n",
       "    .dataframe tbody tr th {\n",
       "        vertical-align: top;\n",
       "    }\n",
       "</style>\n",
       "<table border=\"1\" class=\"dataframe\">\n",
       "  <thead>\n",
       "    <tr style=\"text-align: right;\">\n",
       "      <th></th>\n",
       "      <th>overall</th>\n",
       "      <th>stratified</th>\n",
       "      <th>strat. % error</th>\n",
       "    </tr>\n",
       "  </thead>\n",
       "  <tbody>\n",
       "    <tr>\n",
       "      <th>0</th>\n",
       "      <td>0.253052</td>\n",
       "      <td>0.254144</td>\n",
       "      <td>0.431327</td>\n",
       "    </tr>\n",
       "    <tr>\n",
       "      <th>1</th>\n",
       "      <td>0.476138</td>\n",
       "      <td>0.475138</td>\n",
       "      <td>-0.209919</td>\n",
       "    </tr>\n",
       "    <tr>\n",
       "      <th>2</th>\n",
       "      <td>0.270810</td>\n",
       "      <td>0.270718</td>\n",
       "      <td>-0.033964</td>\n",
       "    </tr>\n",
       "  </tbody>\n",
       "</table>\n",
       "</div>"
      ],
      "text/plain": [
       "    overall  stratified  strat. % error\n",
       "0  0.253052    0.254144        0.431327\n",
       "1  0.476138    0.475138       -0.209919\n",
       "2  0.270810    0.270718       -0.033964"
      ]
     },
     "execution_count": 12,
     "metadata": {},
     "output_type": "execute_result"
    }
   ],
   "source": [
    "sample_comparison = pd.DataFrame({\n",
    "    'overall': df['result'].value_counts().sort_index() / len(df),\n",
    "    'stratified': test['result'].value_counts().sort_index() / len(test),\n",
    "    })\n",
    "sample_comparison['strat. % error'] = 100 * (sample_comparison['stratified'] - sample_comparison['overall']) \\\n",
    "                                     / sample_comparison['overall']\n",
    "sample_comparison"
   ]
  },
  {
   "cell_type": "code",
   "execution_count": 13,
   "metadata": {
    "collapsed": true
   },
   "outputs": [],
   "source": [
    "# Separate the labels\n",
    "y_train = train.pop('result')\n",
    "y_test = test.pop('result')\n",
    "\n",
    "# Drop dates, but keep the training dates as a weight\n",
    "train_weight = train.pop('date')\n",
    "test.drop('date', axis=1, inplace=True)"
   ]
  },
  {
   "cell_type": "markdown",
   "metadata": {},
   "source": [
    "### Scale data\n",
    "\n",
    "Both sets of data need to be scaled before they can be run through a NN"
   ]
  },
  {
   "cell_type": "code",
   "execution_count": 14,
   "metadata": {},
   "outputs": [],
   "source": [
    "from sklearn.preprocessing import MinMaxScaler\n",
    "scaler = MinMaxScaler()\n",
    "scaled_train = scaler.fit_transform(train)\n",
    "scaled_test = scaler.transform(test)"
   ]
  },
  {
   "cell_type": "code",
   "execution_count": 15,
   "metadata": {},
   "outputs": [],
   "source": [
    "from sklearn.preprocessing import OneHotEncoder\n",
    "\n",
    "label_onehot = OneHotEncoder(sparse=False)\n",
    "y_train_nn = label_onehot.fit_transform(y_train.values.reshape(-1, 1))\n",
    "y_test_nn = label_onehot.transform(y_test.values.reshape(-1, 1))"
   ]
  },
  {
   "cell_type": "markdown",
   "metadata": {},
   "source": [
    "### Build a NN model\n",
    "\n",
    "#### Construct the graph"
   ]
  },
  {
   "cell_type": "code",
   "execution_count": 16,
   "metadata": {},
   "outputs": [],
   "source": [
    "import tensorflow as tf\n",
    "\n",
    "\n",
    "n_inputs = scaled_train.shape[1]  # Number of input features\n",
    "n_hidden1 = 300  # Number of neurons in first hidden layer\n",
    "n_hidden2 = 100  # Number of neurons in second hidden layer\n",
    "n_outputs = 3  # Number of possible outputs/classes"
   ]
  },
  {
   "cell_type": "code",
   "execution_count": 17,
   "metadata": {
    "collapsed": true
   },
   "outputs": [],
   "source": [
    "# Initialise tensorboard stuff\n",
    "from datetime import datetime\n",
    "\n",
    "now = datetime.utcnow().strftime('%Y%m%d%H%M%S')\n",
    "root_logdir = 'tf_logs'\n",
    "logdir = '{}/run-{}'.format(root_logdir, now)"
   ]
  },
  {
   "cell_type": "code",
   "execution_count": 18,
   "metadata": {},
   "outputs": [],
   "source": [
    "# Create placeholders for the inputs and outputs\n",
    "X = tf.placeholder(tf.float32, shape=(None, n_inputs), name='X')\n",
    "y = tf.placeholder(tf.int64, shape=(None), name='y')"
   ]
  },
  {
   "cell_type": "code",
   "execution_count": 19,
   "metadata": {},
   "outputs": [],
   "source": [
    "# Create the hidden and output layers\n",
    "with tf.name_scope('dnn'):\n",
    "    hidden1 = tf.layers.dense(X, n_hidden1, name='hidden1',activation=tf.nn.relu)\n",
    "    hidden2 = tf.layers.dense(hidden1, n_hidden2, name='hidden2',activation=tf.nn.relu)\n",
    "    logits = tf.layers.dense(hidden2, n_outputs, name='outputs')"
   ]
  },
  {
   "cell_type": "code",
   "execution_count": 20,
   "metadata": {},
   "outputs": [],
   "source": [
    "# Define loss function\n",
    "with tf.name_scope('loss'):\n",
    "    xentropy = tf.nn.sparse_softmax_cross_entropy_with_logits(labels=y, logits=logits)\n",
    "    loss = tf.reduce_mean(xentropy, name='loss')"
   ]
  },
  {
   "cell_type": "code",
   "execution_count": 21,
   "metadata": {
    "collapsed": true
   },
   "outputs": [],
   "source": [
    "# Create optimiser\n",
    "learning_rate = 0.01\n",
    "\n",
    "with tf.name_scope('train'):\n",
    "    optimiser = tf.train.GradientDescentOptimizer(learning_rate=learning_rate)\n",
    "    training_op = optimiser.minimize(loss)"
   ]
  },
  {
   "cell_type": "code",
   "execution_count": 22,
   "metadata": {
    "collapsed": true
   },
   "outputs": [],
   "source": [
    "# Define evaluation metric\n",
    "with tf.name_scope('eval'):\n",
    "    correct = tf.nn.in_top_k(logits, y, 1)\n",
    "    accuracy = tf.reduce_mean(tf.cast(correct, tf.float32))"
   ]
  },
  {
   "cell_type": "code",
   "execution_count": 23,
   "metadata": {
    "collapsed": true
   },
   "outputs": [],
   "source": [
    "# Create an initialiser and a model saver\n",
    "init = tf.global_variables_initializer()\n",
    "saver = tf.train.Saver()"
   ]
  },
  {
   "cell_type": "code",
   "execution_count": 24,
   "metadata": {
    "collapsed": true
   },
   "outputs": [],
   "source": [
    "acc_summary = tf.summary.scalar('Accuracy', accuracy)\n",
    "file_writer = tf.summary.FileWriter(logdir, tf.get_default_graph())"
   ]
  },
  {
   "cell_type": "markdown",
   "metadata": {},
   "source": [
    "#### Train"
   ]
  },
  {
   "cell_type": "code",
   "execution_count": 25,
   "metadata": {
    "collapsed": true
   },
   "outputs": [],
   "source": [
    "def next_batch(batch_size, data, labels):\n",
    "    '''\n",
    "    Return a random batch of samples and labels. \n",
    "    '''\n",
    "    idx = np.arange(0 , len(data))\n",
    "    np.random.shuffle(idx)\n",
    "    idx = idx[:batch_size]\n",
    "    data_shuffle = data[idx, :]\n",
    "    labels_shuffle = labels[idx]\n",
    "\n",
    "    return np.asarray(data_shuffle), np.asarray(labels_shuffle)"
   ]
  },
  {
   "cell_type": "code",
   "execution_count": 26,
   "metadata": {
    "collapsed": true
   },
   "outputs": [],
   "source": [
    "n_epochs = 40\n",
    "batch_size = 50"
   ]
  },
  {
   "cell_type": "code",
   "execution_count": 27,
   "metadata": {},
   "outputs": [
    {
     "name": "stdout",
     "output_type": "stream",
     "text": [
      "0 Train accuracy:  0.38 Test accuracy:  0.475138\n",
      "1 Train accuracy:  0.58 Test accuracy:  0.475138\n",
      "2 Train accuracy:  0.36 Test accuracy:  0.475138\n",
      "3 Train accuracy:  0.48 Test accuracy:  0.475138\n",
      "4 Train accuracy:  0.5 Test accuracy:  0.475138\n",
      "5 Train accuracy:  0.5 Test accuracy:  0.475138\n",
      "6 Train accuracy:  0.42 Test accuracy:  0.475138\n",
      "7 Train accuracy:  0.48 Test accuracy:  0.475138\n",
      "8 Train accuracy:  0.42 Test accuracy:  0.475138\n",
      "9 Train accuracy:  0.46 Test accuracy:  0.475138\n",
      "10 Train accuracy:  0.4 Test accuracy:  0.475138\n",
      "11 Train accuracy:  0.62 Test accuracy:  0.475138\n",
      "12 Train accuracy:  0.46 Test accuracy:  0.475138\n",
      "13 Train accuracy:  0.44 Test accuracy:  0.475138\n",
      "14 Train accuracy:  0.52 Test accuracy:  0.475138\n",
      "15 Train accuracy:  0.5 Test accuracy:  0.475138\n",
      "16 Train accuracy:  0.48 Test accuracy:  0.475138\n",
      "17 Train accuracy:  0.42 Test accuracy:  0.475138\n",
      "18 Train accuracy:  0.5 Test accuracy:  0.475138\n",
      "19 Train accuracy:  0.52 Test accuracy:  0.475138\n",
      "20 Train accuracy:  0.46 Test accuracy:  0.475138\n",
      "21 Train accuracy:  0.48 Test accuracy:  0.469613\n",
      "22 Train accuracy:  0.46 Test accuracy:  0.486188\n",
      "23 Train accuracy:  0.66 Test accuracy:  0.519337\n",
      "24 Train accuracy:  0.4 Test accuracy:  0.519337\n",
      "25 Train accuracy:  0.44 Test accuracy:  0.486188\n",
      "26 Train accuracy:  0.48 Test accuracy:  0.508287\n",
      "27 Train accuracy:  0.52 Test accuracy:  0.469613\n",
      "28 Train accuracy:  0.54 Test accuracy:  0.491713\n",
      "29 Train accuracy:  0.58 Test accuracy:  0.508287\n",
      "30 Train accuracy:  0.44 Test accuracy:  0.530387\n",
      "31 Train accuracy:  0.54 Test accuracy:  0.513812\n",
      "32 Train accuracy:  0.5 Test accuracy:  0.524862\n",
      "33 Train accuracy:  0.38 Test accuracy:  0.519337\n",
      "34 Train accuracy:  0.44 Test accuracy:  0.546961\n",
      "35 Train accuracy:  0.42 Test accuracy:  0.513812\n",
      "36 Train accuracy:  0.36 Test accuracy:  0.530387\n",
      "37 Train accuracy:  0.54 Test accuracy:  0.519337\n",
      "38 Train accuracy:  0.54 Test accuracy:  0.541436\n",
      "39 Train accuracy:  0.44 Test accuracy:  0.541436\n"
     ]
    }
   ],
   "source": [
    "with tf.Session() as sess:\n",
    "    init.run()\n",
    "    for epoch in range(n_epochs):\n",
    "        for iteration in range(len(scaled_train) // batch_size):\n",
    "            X_batch, y_batch = next_batch(batch_size, scaled_train, np.array(y_train))\n",
    "            sess.run(training_op, feed_dict={X: X_batch, y: np.array(y_batch)})\n",
    "        \n",
    "        acc_train = accuracy.eval(feed_dict={X: X_batch, y: y_batch})\n",
    "        acc_test = accuracy.eval(feed_dict={X: scaled_test, y: y_test})\n",
    "        \n",
    "        # Tensorboard\n",
    "        summary_str = acc_summary.eval(feed_dict={X: X_batch, y: y_batch})\n",
    "        step = epoch\n",
    "        file_writer.add_summary(summary_str, step)\n",
    "        \n",
    "        print(epoch, \"Train accuracy: \", acc_train, \"Test accuracy: \", acc_test)\n",
    "        \n",
    "    save_path = saver.save(sess, 'models/nn_model.ckpt')\n",
    "    file_writer.close()"
   ]
  },
  {
   "cell_type": "markdown",
   "metadata": {},
   "source": [
    "#### Infer"
   ]
  },
  {
   "cell_type": "code",
   "execution_count": 28,
   "metadata": {},
   "outputs": [
    {
     "name": "stdout",
     "output_type": "stream",
     "text": [
      "INFO:tensorflow:Restoring parameters from models/nn_model.ckpt\n"
     ]
    }
   ],
   "source": [
    "with tf.Session() as sess:\n",
    "    saver.restore(sess, 'models/nn_model.ckpt')\n",
    "    Z = logits.eval(feed_dict={X: scaled_test})\n",
    "    y_pred = np.argmax(Z, axis=1)"
   ]
  },
  {
   "cell_type": "markdown",
   "metadata": {},
   "source": [
    "#### Evaluate"
   ]
  },
  {
   "cell_type": "code",
   "execution_count": 29,
   "metadata": {},
   "outputs": [
    {
     "name": "stdout",
     "output_type": "stream",
     "text": [
      "NN classification accuracy =  \t 54.14%\n"
     ]
    },
    {
     "name": "stderr",
     "output_type": "stream",
     "text": [
      "C:\\Users\\James\\Anaconda3\\lib\\site-packages\\sklearn\\metrics\\classification.py:1135: UndefinedMetricWarning: Precision is ill-defined and being set to 0.0 in labels with no predicted samples.\n",
      "  'precision', 'predicted', average, warn_for)\n"
     ]
    },
    {
     "data": {
      "image/png": "[encoded data removed]",
      "text/plain": [
       "<matplotlib.figure.Figure at 0x2bbafa0dc18>"
      ]
     },
     "metadata": {},
     "output_type": "display_data"
    }
   ],
   "source": [
    "from sklearn.metrics import accuracy_score, confusion_matrix, precision_score, recall_score\n",
    "\n",
    "# Simple accuracy score\n",
    "accuracy = accuracy_score(y_test, y_pred)\n",
    "precision = precision_score(y_test, y_pred, average=None)\n",
    "recall = recall_score(y_test, y_pred, average=None)\n",
    "print(\"NN classification accuracy =  \\t {:.2f}%\".format(100*accuracy))\n",
    "\n",
    "# Visualise the confusion matrix, normalised for classification frequency\n",
    "conf_matrix = confusion_matrix(y_test, y_pred)\n",
    "row_sums = conf_matrix.sum(axis=1, keepdims=True)\n",
    "norm_conf_matrix = conf_matrix / row_sums\n",
    "# np.fill_diagonal(norm_conf_matrix, 0)\n",
    "\n",
    "fig, ax = plt.subplots(figsize=[7,5])\n",
    "conf_plot = ax.matshow(norm_conf_matrix, cmap=plt.cm.gray)\n",
    "plt.xlabel('Predicted class')\n",
    "plt.ylabel('Actual class')\n",
    "plt.colorbar(ax=ax, mappable=conf_plot)\n",
    "plt.show()"
   ]
  },
  {
   "cell_type": "code",
   "execution_count": 30,
   "metadata": {},
   "outputs": [
    {
     "name": "stdout",
     "output_type": "stream",
     "text": [
      "[ 0.          0.54609929  0.525     ]\n",
      "[ 0.          0.89534884  0.42857143]\n"
     ]
    }
   ],
   "source": [
    "print(precision)\n",
    "print(recall)"
   ]
  },
  {
   "cell_type": "markdown",
   "metadata": {},
   "source": [
    "Lighter colors represent larger numbers in that position, so in this case we can see a lot of the errors are coming from draws (actual = 0) predicted to be wins (prediction = 1) in the centre-top position.\n",
    "\n",
    "Second worst are losses predicted to be wins. This strongly indicates that winning predictions are the most wrong.\n",
    "\n",
    "Sound like Liverpool?!"
   ]
  },
  {
   "cell_type": "markdown",
   "metadata": {},
   "source": [
    "### Predict a given game"
   ]
  },
  {
   "cell_type": "code",
   "execution_count": 31,
   "metadata": {},
   "outputs": [
    {
     "data": {
      "text/html": [
       "<div>\n",
       "<style>\n",
       "    .dataframe thead tr:only-child th {\n",
       "        text-align: right;\n",
       "    }\n",
       "\n",
       "    .dataframe thead th {\n",
       "        text-align: left;\n",
       "    }\n",
       "\n",
       "    .dataframe tbody tr th {\n",
       "        vertical-align: top;\n",
       "    }\n",
       "</style>\n",
       "<table border=\"1\" class=\"dataframe\">\n",
       "  <thead>\n",
       "    <tr style=\"text-align: right;\">\n",
       "      <th></th>\n",
       "      <th>nth_game_this_season</th>\n",
       "      <th>opposition</th>\n",
       "      <th>liverpool_at_home</th>\n",
       "      <th>beatability_index</th>\n",
       "      <th>day_of_week</th>\n",
       "      <th>days_since_last_game</th>\n",
       "      <th>win_streak</th>\n",
       "      <th>undefeated_streak</th>\n",
       "      <th>pl_gameweek</th>\n",
       "      <th>PPG</th>\n",
       "      <th>GFPG</th>\n",
       "      <th>GAPG</th>\n",
       "      <th>GDPG</th>\n",
       "      <th>n_times_teams_played</th>\n",
       "    </tr>\n",
       "  </thead>\n",
       "  <tbody>\n",
       "    <tr>\n",
       "      <th>749</th>\n",
       "      <td>43</td>\n",
       "      <td>0</td>\n",
       "      <td>False</td>\n",
       "      <td>0.363636</td>\n",
       "      <td>0</td>\n",
       "      <td>9</td>\n",
       "      <td>0</td>\n",
       "      <td>5</td>\n",
       "      <td>31</td>\n",
       "      <td>1.6</td>\n",
       "      <td>1.533333</td>\n",
       "      <td>1.0</td>\n",
       "      <td>0.533333</td>\n",
       "      <td>48</td>\n",
       "    </tr>\n",
       "  </tbody>\n",
       "</table>\n",
       "</div>"
      ],
      "text/plain": [
       "     nth_game_this_season  opposition  liverpool_at_home  beatability_index  \\\n",
       "749                    43           0              False           0.363636   \n",
       "\n",
       "     day_of_week  days_since_last_game  win_streak  undefeated_streak  \\\n",
       "749            0                     9           0                  5   \n",
       "\n",
       "     pl_gameweek  PPG      GFPG  GAPG      GDPG  n_times_teams_played  \n",
       "749           31  1.6  1.533333   1.0  0.533333                    48  "
      ]
     },
     "execution_count": 31,
     "metadata": {},
     "output_type": "execute_result"
    }
   ],
   "source": [
    "train.head(1)"
   ]
  },
  {
   "cell_type": "code",
   "execution_count": 32,
   "metadata": {
    "collapsed": true
   },
   "outputs": [],
   "source": [
    "# Upcoming game info\n",
    "pred_game_date = '2018-01-14'\n",
    "pred_game_opp = 'Manchester City'\n",
    "liverpool_at_home = True\n",
    "game_number_this_season = 29\n",
    "days_since_last_game = 7\n",
    "curr_win_streak = 3\n",
    "curr_undefeated_streak = 7\n",
    "pl_gameweek = 23\n",
    "curr_PPG = 2"
   ]
  },
  {
   "cell_type": "code",
   "execution_count": 33,
   "metadata": {},
   "outputs": [
    {
     "data": {
      "text/plain": [
       "24"
      ]
     },
     "execution_count": 33,
     "metadata": {},
     "output_type": "execute_result"
    }
   ],
   "source": [
    "given_opp = processor.opposition_encoder.transform([pred_game_opp])\n",
    "given_opp[0]"
   ]
  },
  {
   "cell_type": "code",
   "execution_count": 34,
   "metadata": {},
   "outputs": [
    {
     "data": {
      "text/plain": [
       "37"
      ]
     },
     "execution_count": 34,
     "metadata": {},
     "output_type": "execute_result"
    }
   ],
   "source": [
    "given_opp_times_played = processor.opposition_count_dict[given_opp[0]]\n",
    "given_opp_times_played"
   ]
  },
  {
   "cell_type": "code",
   "execution_count": 35,
   "metadata": {},
   "outputs": [
    {
     "data": {
      "text/plain": [
       "0.59999999999999998"
      ]
     },
     "execution_count": 35,
     "metadata": {},
     "output_type": "execute_result"
    }
   ],
   "source": [
    "pred_perf_metric = \\\n",
    "    processor.beatability_df.loc[ processor.beatability_df['opposition'] == pred_game_opp, 'beatability_index'].values\n",
    "pred_perf_metric[0]"
   ]
  },
  {
   "cell_type": "code",
   "execution_count": 36,
   "metadata": {},
   "outputs": [
    {
     "ename": "ValueError",
     "evalue": "cannot reshape array of size 11 into shape (1,14)",
     "output_type": "error",
     "traceback": [
      "\u001b[1;31m---------------------------------------------------------------------------\u001b[0m",
      "\u001b[1;31mValueError\u001b[0m                                Traceback (most recent call last)",
      "\u001b[1;32m<ipython-input-36-56eafd274706>\u001b[0m in \u001b[0;36m<module>\u001b[1;34m()\u001b[0m\n\u001b[0;32m     11\u001b[0m     \u001b[0mpl_gameweek\u001b[0m\u001b[1;33m,\u001b[0m\u001b[1;33m\u001b[0m\u001b[0m\n\u001b[0;32m     12\u001b[0m     \u001b[0mcurr_PPG\u001b[0m\u001b[1;33m\u001b[0m\u001b[0m\n\u001b[1;32m---> 13\u001b[1;33m ], dtype='O').reshape([1, len(train.columns)])\n\u001b[0m",
      "\u001b[1;31mValueError\u001b[0m: cannot reshape array of size 11 into shape (1,14)"
     ]
    }
   ],
   "source": [
    "pred_game = np.array([\n",
    "    game_number_this_season,\n",
    "    given_opp[0],\n",
    "    liverpool_at_home,\n",
    "    pred_perf_metric[0],\n",
    "    pd.to_datetime(pred_game_date, format='%Y-%m-%d').weekday(),\n",
    "    days_since_last_game,\n",
    "    curr_win_streak,\n",
    "    curr_undefeated_streak,\n",
    "    given_opp_times_played,\n",
    "    pl_gameweek,\n",
    "    curr_PPG\n",
    "], dtype='O').reshape([1, len(train.columns)])"
   ]
  },
  {
   "cell_type": "code",
   "execution_count": null,
   "metadata": {
    "collapsed": true
   },
   "outputs": [],
   "source": [
    "y_prob_live = clf.predict(pred_game)\n",
    "y_pred_live = y_prob_live.argmax(axis=1)"
   ]
  },
  {
   "cell_type": "code",
   "execution_count": null,
   "metadata": {
    "collapsed": true
   },
   "outputs": [],
   "source": [
    "if liverpool_at_home:\n",
    "    home_flag = 'H'\n",
    "else:\n",
    "    home_flag = 'A'\n",
    "print('| {}: {} ({})| {:.2f} | {:.2f} | {:.2f} |  |  |  | '.format(pred_game_date, pred_game_opp, home_flag, \n",
    "                                                                   100*y_prob_live[0][1], 100*y_prob_live[0][0], \n",
    "                                                                   100*y_prob_live[0][2]))"
   ]
  },
  {
   "cell_type": "code",
   "execution_count": null,
   "metadata": {
    "collapsed": true
   },
   "outputs": [],
   "source": [
    "print('Win probability: \\t {:.2f}%'.format(100*y_prob_live[0][1]))\n",
    "print('Loss probability: \\t {:.2f}%'.format(100*y_prob_live[0][2]))\n",
    "print('Draw probability: \\t {:.2f}%'.format(100*y_prob_live[0][0]))"
   ]
  },
  {
   "cell_type": "code",
   "execution_count": null,
   "metadata": {
    "collapsed": true
   },
   "outputs": [],
   "source": [
    "feature_contributions = clf.predict(pred_game, pred_contrib=True)\n",
    "ind = np.arange(len(clf.feature_importance()))\n",
    "\n",
    "fig, ax = plt.subplots(nrows=1, ncols=2, figsize=[15,5])\n",
    "ax[0].bar(ind, clf.feature_importance())\n",
    "ax[1].bar(ind, feature_contributions.ravel()[:-1])\n",
    "for axs in ax:\n",
    "    axs.set_xticks(np.arange(len(clf.feature_importance())))\n",
    "    axs.set_xticklabels(clf.feature_name(), rotation=90)\n",
    "plt.show()"
   ]
  },
  {
   "cell_type": "code",
   "execution_count": null,
   "metadata": {
    "collapsed": true
   },
   "outputs": [],
   "source": [
    "# Calculate log loss of prediction given actual result\n",
    "from sklearn.metrics import log_loss\n",
    "\n",
    "y_actual_live = np.array([[0, 1, 0]]) \n",
    "log_loss(y_actual_live, y_prob_live)"
   ]
  }
 ],
 "metadata": {
  "kernelspec": {
   "display_name": "Python 3",
   "language": "python",
   "name": "python3"
  },
  "language_info": {
   "codemirror_mode": {
    "name": "ipython",
    "version": 3
   },
   "file_extension": ".py",
   "mimetype": "text/x-python",
   "name": "python",
   "nbconvert_exporter": "python",
   "pygments_lexer": "ipython3",
   "version": "3.6.2"
  }
 },
 "nbformat": 4,
 "nbformat_minor": 2
}
